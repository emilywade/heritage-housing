{
 "cells": [
  {
   "cell_type": "markdown",
   "id": "d91831e2",
   "metadata": {},
   "source": [
    "# Modelling & Evaluation Notebook "
   ]
  },
  {
   "cell_type": "markdown",
   "id": "c0b5e4cd",
   "metadata": {},
   "source": [
    "## Objectives"
   ]
  },
  {
   "cell_type": "markdown",
   "id": "2797c4ed",
   "metadata": {},
   "source": [
    "## Inputs"
   ]
  },
  {
   "cell_type": "markdown",
   "id": "83bd88b8",
   "metadata": {},
   "source": [
    "## Outputs"
   ]
  },
  {
   "cell_type": "markdown",
   "id": "af4ca93a",
   "metadata": {},
   "source": []
  }
 ],
 "metadata": {
  "language_info": {
   "name": "python"
  }
 },
 "nbformat": 4,
 "nbformat_minor": 5
}
