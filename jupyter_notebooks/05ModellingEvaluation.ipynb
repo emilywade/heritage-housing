{
 "cells": [
  {
   "cell_type": "markdown",
   "id": "d91831e2",
   "metadata": {},
   "source": [
    "# Modelling & Evaluation Notebook "
   ]
  },
  {
   "cell_type": "markdown",
   "id": "c0b5e4cd",
   "metadata": {},
   "source": [
    "## Objectives\n",
    "- Fit and evaluate a classification model to predict house prices."
   ]
  },
  {
   "cell_type": "markdown",
   "id": "2797c4ed",
   "metadata": {},
   "source": [
    "## Inputs\n",
    "- outputs/datasets/collection/HousePrices.csv\n",
    "- Instructions on whch variables to use for data cleaning and feature engineering. These are found in each respective notebook"
   ]
  },
  {
   "cell_type": "markdown",
   "id": "83bd88b8",
   "metadata": {},
   "source": [
    "## Outputs\n",
    "- Train set\n",
    "- Test set\n",
    "- Data cleaning and feature engineering pipeline\n",
    "- Modeling pipeline\n",
    "- Feature importance plot"
   ]
  },
  {
   "cell_type": "markdown",
   "id": "af4ca93a",
   "metadata": {},
   "source": [
    "---"
   ]
  },
  {
   "cell_type": "markdown",
   "id": "970f0d91",
   "metadata": {},
   "source": [
    "## Change working directory\n",
    "Change current working directory to its parent"
   ]
  },
  {
   "cell_type": "code",
   "execution_count": 2,
   "id": "2ca34efd",
   "metadata": {},
   "outputs": [
    {
     "data": {
      "text/plain": [
       "'/workspaces/heritage-housing/jupyter_notebooks'"
      ]
     },
     "execution_count": 2,
     "metadata": {},
     "output_type": "execute_result"
    }
   ],
   "source": [
    "import os \n",
    "cwd = os.getcwd()\n",
    "cwd"
   ]
  },
  {
   "cell_type": "code",
   "execution_count": 3,
   "id": "31550dbe",
   "metadata": {},
   "outputs": [
    {
     "name": "stdout",
     "output_type": "stream",
     "text": [
      "You set a new current working directory\n"
     ]
    }
   ],
   "source": [
    "os.chdir(os.path.dirname(cwd))\n",
    "print(\"You set a new current working directory\")"
   ]
  },
  {
   "cell_type": "code",
   "execution_count": 4,
   "id": "b66ac8fb",
   "metadata": {},
   "outputs": [
    {
     "data": {
      "text/plain": [
       "'/workspaces/heritage-housing'"
      ]
     },
     "execution_count": 4,
     "metadata": {},
     "output_type": "execute_result"
    }
   ],
   "source": [
    "cwd = os.getcwd()\n",
    "cwd"
   ]
  },
  {
   "cell_type": "markdown",
   "id": "99f55947",
   "metadata": {},
   "source": [
    "---"
   ]
  },
  {
   "cell_type": "markdown",
   "id": "1aad9cff",
   "metadata": {},
   "source": [
    "## Step 1: Load Data"
   ]
  },
  {
   "cell_type": "code",
   "execution_count": null,
   "id": "94838ecf",
   "metadata": {},
   "outputs": [
    {
     "name": "stdout",
     "output_type": "stream",
     "text": [
      "(1460, 28)\n"
     ]
    },
    {
     "data": {
      "text/html": [
       "<div>\n",
       "<style scoped>\n",
       "    .dataframe tbody tr th:only-of-type {\n",
       "        vertical-align: middle;\n",
       "    }\n",
       "\n",
       "    .dataframe tbody tr th {\n",
       "        vertical-align: top;\n",
       "    }\n",
       "\n",
       "    .dataframe thead th {\n",
       "        text-align: right;\n",
       "    }\n",
       "</style>\n",
       "<table border=\"1\" class=\"dataframe\">\n",
       "  <thead>\n",
       "    <tr style=\"text-align: right;\">\n",
       "      <th></th>\n",
       "      <th>1stFlrSF</th>\n",
       "      <th>2ndFlrSF</th>\n",
       "      <th>BedroomAbvGr</th>\n",
       "      <th>BsmtExposure</th>\n",
       "      <th>BsmtFinSF1</th>\n",
       "      <th>BsmtFinType1</th>\n",
       "      <th>BsmtUnfSF</th>\n",
       "      <th>GarageArea</th>\n",
       "      <th>GarageFinish</th>\n",
       "      <th>GrLivArea</th>\n",
       "      <th>...</th>\n",
       "      <th>SalePrice</th>\n",
       "      <th>HouseAge</th>\n",
       "      <th>RemodAge</th>\n",
       "      <th>GarageAge</th>\n",
       "      <th>TotalSF</th>\n",
       "      <th>AboveGradeSF</th>\n",
       "      <th>IsRemodeled</th>\n",
       "      <th>Has2ndFlr</th>\n",
       "      <th>HasPorch</th>\n",
       "      <th>HasDeck</th>\n",
       "    </tr>\n",
       "  </thead>\n",
       "  <tbody>\n",
       "    <tr>\n",
       "      <th>0</th>\n",
       "      <td>856</td>\n",
       "      <td>854.0</td>\n",
       "      <td>3.0</td>\n",
       "      <td>No</td>\n",
       "      <td>706</td>\n",
       "      <td>GLQ</td>\n",
       "      <td>150</td>\n",
       "      <td>548</td>\n",
       "      <td>RFn</td>\n",
       "      <td>1710</td>\n",
       "      <td>...</td>\n",
       "      <td>208500</td>\n",
       "      <td>22</td>\n",
       "      <td>22</td>\n",
       "      <td>22.0</td>\n",
       "      <td>2566.0</td>\n",
       "      <td>1710.0</td>\n",
       "      <td>0</td>\n",
       "      <td>1</td>\n",
       "      <td>0</td>\n",
       "      <td>0</td>\n",
       "    </tr>\n",
       "    <tr>\n",
       "      <th>1</th>\n",
       "      <td>1262</td>\n",
       "      <td>0.0</td>\n",
       "      <td>3.0</td>\n",
       "      <td>Gd</td>\n",
       "      <td>978</td>\n",
       "      <td>ALQ</td>\n",
       "      <td>284</td>\n",
       "      <td>460</td>\n",
       "      <td>RFn</td>\n",
       "      <td>1262</td>\n",
       "      <td>...</td>\n",
       "      <td>181500</td>\n",
       "      <td>49</td>\n",
       "      <td>49</td>\n",
       "      <td>49.0</td>\n",
       "      <td>2524.0</td>\n",
       "      <td>1262.0</td>\n",
       "      <td>0</td>\n",
       "      <td>0</td>\n",
       "      <td>0</td>\n",
       "      <td>0</td>\n",
       "    </tr>\n",
       "    <tr>\n",
       "      <th>2</th>\n",
       "      <td>920</td>\n",
       "      <td>866.0</td>\n",
       "      <td>3.0</td>\n",
       "      <td>Mn</td>\n",
       "      <td>486</td>\n",
       "      <td>GLQ</td>\n",
       "      <td>434</td>\n",
       "      <td>608</td>\n",
       "      <td>RFn</td>\n",
       "      <td>1786</td>\n",
       "      <td>...</td>\n",
       "      <td>223500</td>\n",
       "      <td>24</td>\n",
       "      <td>23</td>\n",
       "      <td>24.0</td>\n",
       "      <td>2706.0</td>\n",
       "      <td>1786.0</td>\n",
       "      <td>1</td>\n",
       "      <td>1</td>\n",
       "      <td>0</td>\n",
       "      <td>0</td>\n",
       "    </tr>\n",
       "    <tr>\n",
       "      <th>3</th>\n",
       "      <td>961</td>\n",
       "      <td>NaN</td>\n",
       "      <td>NaN</td>\n",
       "      <td>No</td>\n",
       "      <td>216</td>\n",
       "      <td>ALQ</td>\n",
       "      <td>540</td>\n",
       "      <td>642</td>\n",
       "      <td>Unf</td>\n",
       "      <td>1717</td>\n",
       "      <td>...</td>\n",
       "      <td>140000</td>\n",
       "      <td>110</td>\n",
       "      <td>55</td>\n",
       "      <td>27.0</td>\n",
       "      <td>1717.0</td>\n",
       "      <td>961.0</td>\n",
       "      <td>1</td>\n",
       "      <td>0</td>\n",
       "      <td>0</td>\n",
       "      <td>0</td>\n",
       "    </tr>\n",
       "    <tr>\n",
       "      <th>4</th>\n",
       "      <td>1145</td>\n",
       "      <td>NaN</td>\n",
       "      <td>4.0</td>\n",
       "      <td>Av</td>\n",
       "      <td>655</td>\n",
       "      <td>GLQ</td>\n",
       "      <td>490</td>\n",
       "      <td>836</td>\n",
       "      <td>RFn</td>\n",
       "      <td>2198</td>\n",
       "      <td>...</td>\n",
       "      <td>250000</td>\n",
       "      <td>25</td>\n",
       "      <td>25</td>\n",
       "      <td>25.0</td>\n",
       "      <td>2290.0</td>\n",
       "      <td>1145.0</td>\n",
       "      <td>0</td>\n",
       "      <td>0</td>\n",
       "      <td>0</td>\n",
       "      <td>0</td>\n",
       "    </tr>\n",
       "  </tbody>\n",
       "</table>\n",
       "<p>5 rows × 28 columns</p>\n",
       "</div>"
      ],
      "text/plain": [
       "   1stFlrSF  2ndFlrSF  BedroomAbvGr BsmtExposure  BsmtFinSF1 BsmtFinType1  \\\n",
       "0       856     854.0           3.0           No         706          GLQ   \n",
       "1      1262       0.0           3.0           Gd         978          ALQ   \n",
       "2       920     866.0           3.0           Mn         486          GLQ   \n",
       "3       961       NaN           NaN           No         216          ALQ   \n",
       "4      1145       NaN           4.0           Av         655          GLQ   \n",
       "\n",
       "   BsmtUnfSF  GarageArea GarageFinish  GrLivArea  ... SalePrice  HouseAge  \\\n",
       "0        150         548          RFn       1710  ...    208500        22   \n",
       "1        284         460          RFn       1262  ...    181500        49   \n",
       "2        434         608          RFn       1786  ...    223500        24   \n",
       "3        540         642          Unf       1717  ...    140000       110   \n",
       "4        490         836          RFn       2198  ...    250000        25   \n",
       "\n",
       "   RemodAge  GarageAge  TotalSF  AboveGradeSF  IsRemodeled  Has2ndFlr  \\\n",
       "0        22       22.0   2566.0        1710.0            0          1   \n",
       "1        49       49.0   2524.0        1262.0            0          0   \n",
       "2        23       24.0   2706.0        1786.0            1          1   \n",
       "3        55       27.0   1717.0         961.0            1          0   \n",
       "4        25       25.0   2290.0        1145.0            0          0   \n",
       "\n",
       "   HasPorch  HasDeck  \n",
       "0         0        0  \n",
       "1         0        0  \n",
       "2         0        0  \n",
       "3         0        0  \n",
       "4         0        0  \n",
       "\n",
       "[5 rows x 28 columns]"
      ]
     },
     "execution_count": 10,
     "metadata": {},
     "output_type": "execute_result"
    }
   ],
   "source": [
    "import numpy as np\n",
    "import pandas as pd\n",
    "\n",
    "# dropping ['WoodDeckSF', 'EnclosedPorch'] as discussed in 02DataCleaning\n",
    "df = (pd.read_csv(\"outputs/datasets/collection/HousingPrices.csv\").drop(labels=['WoodDeckSF', 'EnclosedPorch'], axis=1))\n",
    "\n",
    "print(df.shape)\n",
    "df.head()"
   ]
  },
  {
   "cell_type": "markdown",
   "id": "841d0c80",
   "metadata": {},
   "source": [
    "## Step 2: ML Pipeline"
   ]
  },
  {
   "cell_type": "markdown",
   "id": "118f19ab",
   "metadata": {},
   "source": [
    "### ML Pipeline for Data Cleaning and Feature Engineering"
   ]
  },
  {
   "cell_type": "code",
   "execution_count": 11,
   "id": "b3281fb6",
   "metadata": {},
   "outputs": [],
   "source": [
    "from sklearn.pipeline import Pipeline\n",
    "from feature_engine.imputation import MeanMedianImputer, ArbitraryNumberImputer, CategoricalImputer\n",
    "from feature_engine.transformation import LogTransformer, PowerTransformer\n",
    "from feature_engine.outliers import Winsorizer\n",
    "from feature_engine.discretisation import EqualWidthDiscretiser\n",
    "from sklearn.base import BaseEstimator, TransformerMixin\n",
    "\n",
    "\n",
    "# data cleaning\n",
    "def get_cleaning_pipeline():\n",
    "    cleaning_pipeline = Pipeline([\n",
    "        ( 'median',  MeanMedianImputer(imputation_method='median',\n",
    "                                        variables=['LotFrontage', 'BedroomAbvGr', 'MasVnrArea']) ),\n",
    "        ( 'zero_variables',  ArbitraryNumberImputer(arbitrary_number=-0,\n",
    "                                                    variables=['2ndFlrSF', 'GarageAge']) ),\n",
    "        ( 'cat_imputer',  CategoricalImputer(imputation_method='missing',\n",
    "                                            variables=['GarageFinish', 'BsmtFinType1', 'BsmtExposure']) )\n",
    "    ])\n",
    "\n",
    "    return cleaning_pipeline\n",
    "\n",
    "# feature engineering\n",
    "# ordinal encoding\n",
    "class OrdinalEncoder(BaseEstimator, TransformerMixin):\n",
    "    def __init__(self):\n",
    "        self.mapping_KitchenQual = {'Ex':4, 'Gd':3, 'TA':2, 'Fa':1}\n",
    "        self.mapping_BsmtExposure = {'Gd':5, 'Av':4, 'Mn':3, 'No':2, 'Missing':1}\n",
    "        self.mapping_BsmtFinType1 = {'GLQ':7, 'ALQ':6, 'BLQ':5, 'Rec':4, 'LwQ':3, 'Unf':2, 'Missing':1}\n",
    "        self.mapping_GarageFinish = {'Fin':4, 'RFn':3, 'Unf':2, 'Missing':1}\n",
    "\n",
    "    def fit(self, X, y=None):\n",
    "        return self\n",
    "    \n",
    "    def transform(self, X):\n",
    "        X = X.copy()\n",
    "        X['KitchenQual_enc'] = X['KitchenQual'].map(self.mapping_KitchenQual)\n",
    "        X['BsmtExposure_enc'] = X['BsmtExposure'].map(self.mapping_BsmtExposure)\n",
    "        X['BsmtFinType1_enc'] = X['BsmtFinType1'].map(self.mapping_BsmtFinType1)\n",
    "        X['GarageFinish_enc'] = X['GarageFinish'].map(self.mapping_GarageFinish)\n",
    "        X.drop(columns=['KitchenQual', 'BsmtExposure', 'BsmtFinType1', 'GarageFinish'], inplace=True)\n",
    "        return X\n",
    "\n",
    "# numerical pipeline\n",
    "def get_numerical_pipeline():\n",
    "    winsor_vars = ['GrLivArea', 'LotArea', 'LotFrontage', 'MasVnrArea', 'OpenPorchSF', 'AboveGradeSF']\n",
    "    log_vars = ['1stFlrSF', 'GrLivArea', 'AboveGradeSF']\n",
    "    power_vars = ['TotalSF']\n",
    "\n",
    "    numerical_pipeline = Pipeline([\n",
    "        ('winsorizer',  Winsorizer(capping_method='iqr', tail='both', fold=1.5, variables=winsor_vars)),\n",
    "        ('log_transformer', LogTransformer(variables=log_vars)),\n",
    "        ('power_transformer', PowerTransformer(variables=power_vars)),\n",
    "        ('discretiser', EqualWidthDiscretiser(bins=5, variables=winsor_vars))\n",
    "    ])\n",
    "\n",
    "    return numerical_pipeline\n",
    "\n",
    "\n",
    "def PipelineDataCleaningAndFeatureEngineering():\n",
    "    cleaning_pipeline = get_cleaning_pipeline()\n",
    "    ordinal_encoder = OrdinalEncoder()\n",
    "    numerical_pipeline = get_numerical_pipeline()\n",
    "    \n",
    "    pipeline_base = Pipeline([\n",
    "        ('cleaning', cleaning_pipeline),\n",
    "        ('ordinal_encoder', ordinal_encoder),\n",
    "        ('numerical_pipeline', numerical_pipeline)\n",
    "    ])\n",
    "\n",
    "    return pipeline_base\n",
    "\n",
    "      "
   ]
  },
  {
   "cell_type": "markdown",
   "id": "0d03cb24",
   "metadata": {},
   "source": [
    "### ML Pipeline for Modelling and Hyperparameter Optimisation"
   ]
  },
  {
   "cell_type": "code",
   "execution_count": 12,
   "id": "042142bb",
   "metadata": {},
   "outputs": [],
   "source": [
    "# Feat Scaling\n",
    "from sklearn.preprocessing import StandardScaler\n",
    "\n",
    "# Feat Selection\n",
    "from sklearn.feature_selection import SelectFromModel\n",
    "\n",
    "# ML algorithms\n",
    "from sklearn.linear_model import LinearRegression\n",
    "from sklearn.linear_model import ElasticNet\n",
    "from sklearn.linear_model import Ridge\n",
    "from sklearn.linear_model import Lasso\n",
    "from sklearn.tree import DecisionTreeRegressor\n",
    "from sklearn.ensemble import RandomForestRegressor\n",
    "from sklearn.ensemble import GradientBoostingRegressor\n",
    "from xgboost import XGBRegressor\n",
    "\n",
    "def PipelineClf(model):\n",
    "    pipeline_base = Pipeline([\n",
    "        (\"scaler\", StandardScaler()),\n",
    "        (\"feat_selection\", SelectFromModel(model)),\n",
    "        (\"model\", model),\n",
    "    ])\n",
    "\n",
    "    return pipeline_base"
   ]
  },
  {
   "cell_type": "code",
   "execution_count": 13,
   "id": "57b9075b",
   "metadata": {},
   "outputs": [],
   "source": [
    "from sklearn.model_selection import GridSearchCV\n",
    "\n",
    "\n",
    "class HyperparameterOptimizationSearch:\n",
    "\n",
    "    def __init__(self, models, params):\n",
    "        self.models = models\n",
    "        self.params = params\n",
    "        self.keys = models.keys()\n",
    "        self.grid_searches = {}\n",
    "\n",
    "    def fit(self, X, y, cv, n_jobs, verbose=1, scoring=None, refit=False):\n",
    "        for key in self.keys:\n",
    "            print(f\"\\nRunning GridSearchCV for {key} \\n\")\n",
    "\n",
    "            model = PipelineClf(self.models[key])\n",
    "            params = self.params[key]\n",
    "            gs = GridSearchCV(model, params, cv=cv, n_jobs=n_jobs,\n",
    "                              verbose=verbose, scoring=scoring, )\n",
    "            gs.fit(X, y)\n",
    "            self.grid_searches[key] = gs\n",
    "\n",
    "    def score_summary(self, sort_by='mean_score'):\n",
    "        def row(key, scores, params):\n",
    "            d = {\n",
    "                'estimator': key,\n",
    "                'min_score': min(scores),\n",
    "                'max_score': max(scores),\n",
    "                'mean_score': np.mean(scores),\n",
    "                'std_score': np.std(scores),\n",
    "            }\n",
    "            return pd.Series({**params, **d})\n",
    "\n",
    "        rows = []\n",
    "        for k in self.grid_searches:\n",
    "            params = self.grid_searches[k].cv_results_['params']\n",
    "            scores = []\n",
    "            for i in range(self.grid_searches[k].cv):\n",
    "                key = \"split{}_test_score\".format(i)\n",
    "                r = self.grid_searches[k].cv_results_[key]\n",
    "                scores.append(r.reshape(len(params), 1))\n",
    "\n",
    "            all_scores = np.hstack(scores)\n",
    "            for p, s in zip(params, all_scores):\n",
    "                rows.append((row(k, s, p)))\n",
    "\n",
    "        df = pd.concat(rows, axis=1).T.sort_values([sort_by], ascending=False)\n",
    "        columns = ['estimator', 'min_score',\n",
    "                   'mean_score', 'max_score', 'std_score']\n",
    "        columns = columns + [c for c in df.columns if c not in columns]\n",
    "        return df[columns], self.grid_searches"
   ]
  },
  {
   "cell_type": "markdown",
   "id": "3a59ccc7",
   "metadata": {},
   "source": [
    "### Split Train and Test Set"
   ]
  },
  {
   "cell_type": "code",
   "execution_count": 14,
   "id": "963cd8f4",
   "metadata": {},
   "outputs": [
    {
     "name": "stdout",
     "output_type": "stream",
     "text": [
      "(1168, 27) (1168,) (292, 27) (292,)\n"
     ]
    }
   ],
   "source": [
    "from sklearn.model_selection import train_test_split\n",
    "X_train, X_test, y_train, y_test = train_test_split(\n",
    "    df.drop(['SalePrice'], axis=1),\n",
    "    df['SalePrice'],\n",
    "    test_size=0.2,\n",
    "    random_state=0,\n",
    ")\n",
    "\n",
    "print(X_train.shape, y_train.shape, X_test.shape, y_test.shape)"
   ]
  },
  {
   "cell_type": "markdown",
   "id": "09629710",
   "metadata": {},
   "source": [
    "### Handle Target Imbalance"
   ]
  },
  {
   "cell_type": "code",
   "execution_count": 15,
   "id": "982b1772",
   "metadata": {},
   "outputs": [
    {
     "name": "stdout",
     "output_type": "stream",
     "text": [
      "(1168, 27) (1168,) (292, 27) (292,)\n"
     ]
    },
    {
     "name": "stderr",
     "output_type": "stream",
     "text": [
      "/home/codespace/.python/current/lib/python3.12/site-packages/feature_engine/imputation/categorical.py:232: FutureWarning: is_categorical_dtype is deprecated and will be removed in a future version. Use isinstance(dtype, CategoricalDtype) instead\n",
      "  if pd.api.types.is_categorical_dtype(X[variable]):\n",
      "/home/codespace/.python/current/lib/python3.12/site-packages/feature_engine/imputation/categorical.py:232: FutureWarning: is_categorical_dtype is deprecated and will be removed in a future version. Use isinstance(dtype, CategoricalDtype) instead\n",
      "  if pd.api.types.is_categorical_dtype(X[variable]):\n"
     ]
    }
   ],
   "source": [
    "pipeline_data_cleaning_feat_eng = PipelineDataCleaningAndFeatureEngineering()\n",
    "X_train = pipeline_data_cleaning_feat_eng.fit_transform(X_train)\n",
    "X_test = pipeline_data_cleaning_feat_eng.transform(X_test)\n",
    "print(X_train.shape, y_train.shape, X_test.shape, y_test.shape)"
   ]
  },
  {
   "cell_type": "markdown",
   "id": "b2158f1a",
   "metadata": {},
   "source": [
    "Check Train Set Target distribution"
   ]
  },
  {
   "cell_type": "code",
   "execution_count": 17,
   "id": "77e56835",
   "metadata": {},
   "outputs": [
    {
     "data": {
      "image/png": "[encoded data removed]",
      "text/plain": [
       "<Figure size 1000x400 with 1 Axes>"
      ]
     },
     "metadata": {},
     "output_type": "display_data"
    },
    {
     "data": {
      "image/png": "[encoded data removed]",
      "text/plain": [
       "<Figure size 1000x200 with 1 Axes>"
      ]
     },
     "metadata": {},
     "output_type": "display_data"
    }
   ],
   "source": [
    "import matplotlib.pyplot as plt\n",
    "import seaborn as sns\n",
    "\n",
    "# Histogram\n",
    "plt.figure(figsize=(10, 4))\n",
    "sns.histplot(y_train, kde=True, bins=30)\n",
    "plt.title(\"Train Set Target Distribution (Histogram)\")\n",
    "plt.xlabel(\"SalePrice\")\n",
    "plt.ylabel(\"Count\")\n",
    "plt.show()\n",
    "\n",
    "# Boxplot\n",
    "plt.figure(figsize=(10, 2))\n",
    "sns.boxplot(x=y_train)\n",
    "plt.title(\"Train Set Target Distribution (Boxplot)\")\n",
    "plt.xlabel(\"SalePrice\")\n",
    "plt.show()"
   ]
  },
  {
   "cell_type": "code",
   "execution_count": null,
   "id": "10f045cc",
   "metadata": {},
   "outputs": [],
   "source": []
  }
 ],
 "metadata": {
  "kernelspec": {
   "display_name": "Python 3",
   "language": "python",
   "name": "python3"
  },
  "language_info": {
   "codemirror_mode": {
    "name": "ipython",
    "version": 3
   },
   "file_extension": ".py",
   "mimetype": "text/x-python",
   "name": "python",
   "nbconvert_exporter": "python",
   "pygments_lexer": "ipython3",
   "version": "3.12.1"
  }
 },
 "nbformat": 4,
 "nbformat_minor": 5
}
