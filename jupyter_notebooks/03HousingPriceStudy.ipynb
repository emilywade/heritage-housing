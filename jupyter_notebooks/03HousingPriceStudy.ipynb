{
 "cells": [
  {
   "cell_type": "markdown",
   "id": "3b396b38",
   "metadata": {},
   "source": [
    "# Housing Price Study Notebook"
   ]
  },
  {
   "cell_type": "markdown",
   "id": "8753eca9",
   "metadata": {},
   "source": [
    "## Objectives\n",
    "- Answer business requirement 1:\n",
    "    - The client is interested in discovering how the house attributes correlate with the sale price. Therefore, the client expects data visualisations of the correlated variables against the sale price to show that."
   ]
  },
  {
   "cell_type": "markdown",
   "id": "e23e74b8",
   "metadata": {},
   "source": [
    "# Inputs"
   ]
  },
  {
   "cell_type": "markdown",
   "id": "5fadb8ed",
   "metadata": {},
   "source": [
    "- outputs/datasets/collection/HousingPrices.csv"
   ]
  },
  {
   "cell_type": "markdown",
   "id": "31e69b78",
   "metadata": {},
   "source": [
    "## Outputs\n",
    "- Generate code that answers business requirement 1 and can be used to build the Streamlit App"
   ]
  },
  {
   "cell_type": "markdown",
   "id": "85f6d34f",
   "metadata": {},
   "source": [
    "---"
   ]
  },
  {
   "cell_type": "markdown",
   "id": "f28ccd3d",
   "metadata": {},
   "source": [
    "## Change working directory\n",
    "Change current working directory to its parent"
   ]
  },
  {
   "cell_type": "code",
   "execution_count": null,
   "id": "f72f136f",
   "metadata": {},
   "outputs": [],
   "source": [
    "import os \n",
    "cwd = os.getcwd()\n",
    "cwd"
   ]
  },
  {
   "cell_type": "code",
   "execution_count": null,
   "id": "db174068",
   "metadata": {},
   "outputs": [],
   "source": [
    "os.chdir(os.path.dirname(cwd))\n",
    "print(\"You set a new current working directory\")"
   ]
  },
  {
   "cell_type": "code",
   "execution_count": null,
   "id": "d0cccc76",
   "metadata": {},
   "outputs": [],
   "source": [
    "cwd = os.getcwd()\n",
    "cwd"
   ]
  },
  {
   "cell_type": "markdown",
   "id": "57c341b4",
   "metadata": {},
   "source": [
    "---"
   ]
  },
  {
   "cell_type": "markdown",
   "id": "7b840cd7",
   "metadata": {},
   "source": [
    "## Load Data"
   ]
  },
  {
   "cell_type": "code",
   "execution_count": null,
   "id": "93e03c32",
   "metadata": {},
   "outputs": [],
   "source": [
    "import pandas as pd\n",
    "df = pd.read_csv(\"outputs/datasets/cleaned/HousingPrices.csv\")\n",
    "df.head()"
   ]
  },
  {
   "cell_type": "markdown",
   "id": "a53f02bb",
   "metadata": {},
   "source": [
    "## Data Exploration"
   ]
  },
  {
   "cell_type": "code",
   "execution_count": null,
   "id": "e6994187",
   "metadata": {},
   "outputs": [],
   "source": [
    "from ydata_profiling import ProfileReport\n",
    "pandas_report = ProfileReport(df=df, minimal=True)\n",
    "pandas_report.to_notebook_iframe()"
   ]
  },
  {
   "cell_type": "markdown",
   "id": "1172d23f",
   "metadata": {},
   "source": [
    "## Correlation Study"
   ]
  },
  {
   "cell_type": "markdown",
   "id": "cc830006",
   "metadata": {},
   "source": [
    "### Spearman and Pearson Methods on Numerical Variables"
   ]
  },
  {
   "cell_type": "code",
   "execution_count": null,
   "id": "7ae07db1",
   "metadata": {},
   "outputs": [],
   "source": [
    "numeric_features = df.select_dtypes(include=['number'])\n",
    "corr_spearman = numeric_features.corr(method='spearman')['SalePrice'].sort_values(key=abs, ascending=False)[1:].head(10)\n",
    "corr_pearson = numeric_features.corr(method='pearson')['SalePrice'].sort_values(key=abs, ascending=False)[1:].head(10)"
   ]
  },
  {
   "cell_type": "code",
   "execution_count": null,
   "id": "db866ba0",
   "metadata": {},
   "outputs": [],
   "source": [
    "corr_pearson"
   ]
  },
  {
   "cell_type": "code",
   "execution_count": null,
   "id": "030e0dcb",
   "metadata": {},
   "outputs": [],
   "source": [
    "corr_spearman"
   ]
  },
  {
   "cell_type": "code",
   "execution_count": null,
   "id": "5c4a4b49",
   "metadata": {},
   "outputs": [],
   "source": [
    "top_n = 5\n",
    "set(corr_pearson[:top_n].index.to_list() + corr_spearman[:top_n].index.to_list())"
   ]
  },
  {
   "cell_type": "code",
   "execution_count": null,
   "id": "25d29221",
   "metadata": {},
   "outputs": [],
   "source": [
    "vars_to_study = ['AboveGradeSF', 'GarageArea', 'GrLivArea', 'HouseAge', 'OverallQual', 'TotalSF']"
   ]
  },
  {
   "cell_type": "markdown",
   "id": "8db16fff",
   "metadata": {},
   "source": [
    "### Group Analysis and Box Plots on Categorical Variables"
   ]
  },
  {
   "cell_type": "code",
   "execution_count": null,
   "id": "20e089e8",
   "metadata": {},
   "outputs": [],
   "source": [
    "%matplotlib inline"
   ]
  },
  {
   "cell_type": "code",
   "execution_count": null,
   "id": "ce5ba8f4",
   "metadata": {},
   "outputs": [],
   "source": [
    "import seaborn as sns\n",
    "import matplotlib.pyplot as plt\n",
    "\n",
    "\n",
    "import matplotlib.pyplot as plt\n",
    "import seaborn as sns\n",
    "\n",
    "def auto_order_encode_plot(df, target, cat_cols):\n",
    "    for col in cat_cols:\n",
    "        median_order = df.groupby(col)[target].median().sort_values()\n",
    "        order = list(median_order.index)\n",
    "        \n",
    "        plt.figure(figsize=(10, 5))\n",
    "        sns.boxplot(x=col, y=target, data=df, order=order)\n",
    "        plt.title(f\"{target} distribution by {col} (ordered by median)\")\n",
    "        plt.xticks(rotation=45)\n",
    "        plt.show()\n",
    "        \n",
    "        mapping = {k: v for v, k in enumerate(order, 1)}\n",
    "        new_col_name = col + '_encoded'\n",
    "        df[new_col_name] = df[col].map(mapping)\n",
    "        \n",
    "        print(f\"Encoded '{col}' as '{new_col_name}' with mapping:\\n{mapping}\\n\")\n",
    "\n",
    "        print(df.groupby(col)['SalePrice'].mean().sort_values())\n",
    "    return df\n"
   ]
  },
  {
   "cell_type": "code",
   "execution_count": null,
   "id": "adcca412",
   "metadata": {},
   "outputs": [],
   "source": [
    "categorical_features = df.select_dtypes(include=['object']).columns\n",
    "df = auto_order_encode_plot(df, target='SalePrice', cat_cols=categorical_features.to_list())"
   ]
  },
  {
   "cell_type": "markdown",
   "id": "46b2e6db",
   "metadata": {},
   "source": [
    "Observations:\n",
    "- The relationship between categories of BsmtFinType1 and SalePrice isn't monotonic\n",
    "- BsmtExposure, GarageFinish and KitchenQual have a monotonic relationship with SalePrice and should be included for further investigation"
   ]
  },
  {
   "cell_type": "code",
   "execution_count": null,
   "id": "d57d0706",
   "metadata": {},
   "outputs": [],
   "source": [
    "vars_to_study += ['BsmtExposure', 'GarageFinish', 'KitchenQual']\n",
    "vars_to_study"
   ]
  },
  {
   "cell_type": "markdown",
   "id": "e8dfd474",
   "metadata": {},
   "source": [
    "## EDA on selected variables"
   ]
  },
  {
   "cell_type": "code",
   "execution_count": null,
   "id": "c11c488f",
   "metadata": {},
   "outputs": [],
   "source": [
    "num_vars = ['AboveGradeSF', 'GarageArea', 'GrLivArea', 'HouseAge', 'OverallQual', 'TotalSF']\n",
    "cat_vars = ['BsmtExposure', 'GarageFinish', 'KitchenQual']"
   ]
  },
  {
   "cell_type": "markdown",
   "id": "fd690433",
   "metadata": {},
   "source": [
    "### Numerical Variables"
   ]
  },
  {
   "cell_type": "code",
   "execution_count": null,
   "id": "afccf838",
   "metadata": {},
   "outputs": [],
   "source": [
    "for var in num_vars:\n",
    "    plt.figure(figsize=(8, 5))\n",
    "    sns.scatterplot(x=var, y='SalePrice', data=df)\n",
    "    sns.regplot(x=var, y='SalePrice', data=df, scatter=False, color='red')\n",
    "    plt.title(f'SalePrice vs {var}')\n",
    "    plt.show()"
   ]
  },
  {
   "cell_type": "code",
   "execution_count": null,
   "id": "da3d20f4",
   "metadata": {},
   "outputs": [],
   "source": [
    "import numpy as np\n",
    "\n",
    "corr = df[num_vars + ['SalePrice']].corr()\n",
    "threshold = 0.0\n",
    "mask = np.abs(corr) < threshold\n",
    "plt.figure(figsize=(8, 6))\n",
    "sns.heatmap(corr, annot=True, cmap='coolwarm', fmt=\".2f\", mask=mask, cbar=True)\n",
    "plt.title(f\"Correlation Matrix (|corr| >= {threshold})\")\n",
    "plt.show()"
   ]
  },
  {
   "cell_type": "markdown",
   "id": "b8252f69",
   "metadata": {},
   "source": [
    "Observations:\n",
    "- OveralQual has the strongest correlation with SalePrice, following by TotalSF\n",
    "- HouseAge has an inverse relationship with SalePrice\n"
   ]
  },
  {
   "cell_type": "markdown",
   "id": "cccbb63a",
   "metadata": {},
   "source": [
    "### Categorical Variables"
   ]
  },
  {
   "cell_type": "code",
   "execution_count": null,
   "id": "6d923910",
   "metadata": {},
   "outputs": [],
   "source": [
    "print(\"KitchenQual counts: \", df['KitchenQual'].value_counts())\n",
    "print(\"BsmtExposure counts: \", df['BsmtExposure'].value_counts())\n",
    "print(\"GarageFinish counts: \", df['GarageFinish'].value_counts())"
   ]
  },
  {
   "cell_type": "code",
   "execution_count": null,
   "id": "3d5b16e4",
   "metadata": {},
   "outputs": [],
   "source": [
    "pivot_table = df.pivot_table(\n",
    "    values='SalePrice',\n",
    "    index='KitchenQual',\n",
    "    columns='BsmtExposure',\n",
    "    aggfunc='median'\n",
    ")\n",
    "\n",
    "row_order = ['Ex', 'Gd', 'TA', 'Fa']  # KitchenQual\n",
    "col_order = ['Missing', 'No', 'Mn', 'Av', 'Gd'] # BsmtExposure  \n",
    "\n",
    "pivot_table_ordered = pivot_table.loc[row_order, col_order]\n",
    "\n",
    "plt.figure(figsize=(10, 7))\n",
    "sns.heatmap(pivot_table_ordered, annot=True, fmt=\".0f\", cmap='Blues')\n",
    "plt.title('Median SalePrice by KitchenQual and BsmtExposure')\n",
    "plt.show()"
   ]
  },
  {
   "cell_type": "code",
   "execution_count": null,
   "id": "accf719a",
   "metadata": {},
   "outputs": [],
   "source": [
    "pivot_table = df.pivot_table(\n",
    "    values='SalePrice',\n",
    "    index='KitchenQual',\n",
    "    columns='GarageFinish',\n",
    "    aggfunc='median'\n",
    ")\n",
    "\n",
    "row_order = ['Ex', 'Gd', 'TA', 'Fa']  # KitchenQual\n",
    "col_order = ['Missing', 'Unf', 'RFn', 'Fin'] # GarageFinish  \n",
    "\n",
    "pivot_table_ordered = pivot_table.loc[row_order, col_order]\n",
    "\n",
    "plt.figure(figsize=(10, 7))\n",
    "sns.heatmap(pivot_table_ordered, annot=True, fmt=\".0f\", cmap='Blues')\n",
    "plt.title('Median SalePrice by KitchenQual and GarageFinish')\n",
    "plt.show()"
   ]
  },
  {
   "cell_type": "code",
   "execution_count": null,
   "id": "5836a24e",
   "metadata": {},
   "outputs": [],
   "source": [
    "pivot_table = df.pivot_table(\n",
    "    values='SalePrice',\n",
    "    index='BsmtExposure',\n",
    "    columns='GarageFinish',\n",
    "    aggfunc='median'\n",
    ")\n",
    "\n",
    "row_order = ['Gd', 'Av', 'Mn', 'No', 'Missing'] # BsmtExposure  \n",
    "col_order = ['Missing', 'Unf', 'RFn', 'Fin'] # GarageFinish  \n",
    "\n",
    "pivot_table_ordered = pivot_table.loc[row_order, col_order]\n",
    "\n",
    "plt.figure(figsize=(10, 7))\n",
    "sns.heatmap(pivot_table_ordered, annot=True, fmt=\".0f\", cmap='Blues')\n",
    "plt.title('Median SalePrice by KitchenQual and GarageFinish')\n",
    "plt.show()"
   ]
  },
  {
   "cell_type": "markdown",
   "id": "942f386e",
   "metadata": {},
   "source": [
    "## PPS Matrix for all features"
   ]
  },
  {
   "cell_type": "code",
   "execution_count": null,
   "id": "c42b2130",
   "metadata": {},
   "outputs": [],
   "source": [
    "import ppscore as pps\n",
    "\n",
    "pps_matrix = pps.matrix(df)\n",
    "\n",
    "pps_target = pps_matrix[pps_matrix['y'] == 'SalePrice'].sort_values(by='ppscore', ascending=False)\n",
    "\n",
    "print(pps_target[['x', 'ppscore']])"
   ]
  },
  {
   "cell_type": "markdown",
   "id": "0f740c93",
   "metadata": {},
   "source": [
    "## Conclusions"
   ]
  },
  {
   "cell_type": "markdown",
   "id": "96b930ae",
   "metadata": {},
   "source": [
    "- OverallQual \n",
    "    - Pearson correlation: 0.79\n",
    "    - Spearman correlation: 0.81\n",
    "    - PPS: 0.44\n",
    "    - Home with a consistently superior quality achieve higher sale prices. \n",
    "- TotalSF\n",
    "    - Pearson: 0.77\n",
    "    - Spearman: 0.8\n",
    "    - PPS: 0.27\n",
    "    - Larger total living area (including basement) is strongly linked to higher sale prices.\n",
    "- KitchenQual\n",
    "    - Boxplots: montonic relationship \n",
    "    - PPS: 0.26\n",
    "    - Higher kitchen quality ratings predict higher sale prices. This suggest kitchen condition is a major factor for buyers.\n",
    "- GrLivArea \n",
    "    - Pearson: 0.71\n",
    "    - Spearman: 0.73\n",
    "    - PPS: 0.1\n",
    "    - Larger above-ground space is strongly correlated with higher prices, but PPS suggests it is less uniquely predictive than total size.\n",
    "- GarageArea\n",
    "    - Pearson: 0.62\n",
    "    - Spearman: 0.65\n",
    "    - PPS: 0.19\n",
    "    - Larger garages increase home value. Related to GrLivArea and TotalSF, but implies that garage space is less important than living areas. \n",
    "- HouseAge\n",
    "    - Pearson: -0.62\n",
    "    - Spearman: -0.65\n",
    "    - PPS: 0.2\n",
    "    - Newer houses generally sell for more. Age is negatively related to price.\n",
    "- RemodAge\n",
    "    - Pearson: -0.51\n",
    "    - Spearman: -.57\n",
    "    - PPS: 0.14\n",
    "    - Homes more recently remodeled tend to be priced higher. "
   ]
  },
  {
   "cell_type": "markdown",
   "id": "a1086295",
   "metadata": {},
   "source": []
  }
 ],
 "metadata": {
  "kernelspec": {
   "display_name": "Python 3",
   "language": "python",
   "name": "python3"
  },
  "language_info": {
   "codemirror_mode": {
    "name": "ipython",
    "version": 3
   },
   "file_extension": ".py",
   "mimetype": "text/x-python",
   "name": "python",
   "nbconvert_exporter": "python",
   "pygments_lexer": "ipython3",
   "version": "3.12.1"
  }
 },
 "nbformat": 4,
 "nbformat_minor": 5
}
