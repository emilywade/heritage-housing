{
 "cells": [
  {
   "cell_type": "markdown",
   "id": "c1162862",
   "metadata": {},
   "source": [
    "# Data Collection Notebook"
   ]
  },
  {
   "cell_type": "markdown",
   "id": "c6200025",
   "metadata": {},
   "source": [
    "## Objectives\n",
    "- Fetch data from Kaggle\n",
    "- Save it as raw data\n",
    "- Inspect the data\n",
    "- Save it under outputs/datasets/collection"
   ]
  },
  {
   "cell_type": "markdown",
   "id": "453b013f",
   "metadata": {},
   "source": [
    "## Inputs\n",
    "- Kaggle JSON file - the authentication token"
   ]
  },
  {
   "cell_type": "markdown",
   "id": "38095e05",
   "metadata": {},
   "source": [
    "## Outputs \n",
    "- Generate dataset: outputs/datasets/collection/HousingMarket.csv"
   ]
  },
  {
   "cell_type": "markdown",
   "id": "1ded9652",
   "metadata": {},
   "source": [
    "---"
   ]
  },
  {
   "cell_type": "markdown",
   "id": "141e2398",
   "metadata": {},
   "source": [
    "## Change working directory\n",
    "Changing current working directory to its parent folder"
   ]
  },
  {
   "cell_type": "code",
   "execution_count": 1,
   "id": "73b12bbd",
   "metadata": {},
   "outputs": [
    {
     "data": {
      "text/plain": [
       "'/workspaces/heritage-housing/jupyter_notebooks'"
      ]
     },
     "execution_count": 1,
     "metadata": {},
     "output_type": "execute_result"
    }
   ],
   "source": [
    "import os \n",
    "cwd = os.getcwd()\n",
    "cwd"
   ]
  },
  {
   "cell_type": "code",
   "execution_count": 2,
   "id": "71772c4d",
   "metadata": {},
   "outputs": [
    {
     "name": "stdout",
     "output_type": "stream",
     "text": [
      "You set a new current working directory\n"
     ]
    }
   ],
   "source": [
    "os.chdir(os.path.dirname(cwd))\n",
    "print(\"You set a new current working directory\")"
   ]
  },
  {
   "cell_type": "code",
   "execution_count": 4,
   "id": "b639194b",
   "metadata": {},
   "outputs": [
    {
     "data": {
      "text/plain": [
       "'/workspaces/heritage-housing'"
      ]
     },
     "execution_count": 4,
     "metadata": {},
     "output_type": "execute_result"
    }
   ],
   "source": [
    "cwd = os.getcwd()\n",
    "cwd"
   ]
  },
  {
   "cell_type": "markdown",
   "id": "3c4d8753",
   "metadata": {},
   "source": [
    "## Fetch data from Kaggle\n",
    "Install Kaggle package to fetch data"
   ]
  },
  {
   "cell_type": "code",
   "execution_count": 5,
   "id": "c974eefd",
   "metadata": {},
   "outputs": [
    {
     "name": "stdout",
     "output_type": "stream",
     "text": [
      "Collecting kaggle==1.5.12\n",
      "  Downloading kaggle-1.5.12.tar.gz (58 kB)\n",
      "  Installing build dependencies ... \u001b[?25ldone\n",
      "\u001b[?25h  Getting requirements to build wheel ... \u001b[?25ldone\n",
      "\u001b[?25h  Preparing metadata (pyproject.toml) ... \u001b[?25ldone\n",
      "\u001b[?25hRequirement already satisfied: six>=1.10 in /home/codespace/.local/lib/python3.12/site-packages (from kaggle==1.5.12) (1.17.0)\n",
      "Requirement already satisfied: certifi in /home/codespace/.local/lib/python3.12/site-packages (from kaggle==1.5.12) (2025.4.26)\n",
      "Requirement already satisfied: python-dateutil in /home/codespace/.local/lib/python3.12/site-packages (from kaggle==1.5.12) (2.9.0.post0)\n",
      "Requirement already satisfied: requests in /home/codespace/.local/lib/python3.12/site-packages (from kaggle==1.5.12) (2.32.3)\n",
      "Collecting tqdm (from kaggle==1.5.12)\n",
      "  Downloading tqdm-4.67.1-py3-none-any.whl.metadata (57 kB)\n",
      "Collecting python-slugify (from kaggle==1.5.12)\n",
      "  Downloading python_slugify-8.0.4-py2.py3-none-any.whl.metadata (8.5 kB)\n",
      "Requirement already satisfied: urllib3 in /home/codespace/.local/lib/python3.12/site-packages (from kaggle==1.5.12) (2.4.0)\n",
      "Collecting text-unidecode>=1.3 (from python-slugify->kaggle==1.5.12)\n",
      "  Downloading text_unidecode-1.3-py2.py3-none-any.whl.metadata (2.4 kB)\n",
      "Requirement already satisfied: charset-normalizer<4,>=2 in /home/codespace/.local/lib/python3.12/site-packages (from requests->kaggle==1.5.12) (3.4.2)\n",
      "Requirement already satisfied: idna<4,>=2.5 in /home/codespace/.local/lib/python3.12/site-packages (from requests->kaggle==1.5.12) (3.10)\n",
      "Downloading python_slugify-8.0.4-py2.py3-none-any.whl (10 kB)\n",
      "Downloading text_unidecode-1.3-py2.py3-none-any.whl (78 kB)\n",
      "Downloading tqdm-4.67.1-py3-none-any.whl (78 kB)\n",
      "Building wheels for collected packages: kaggle\n",
      "  Building wheel for kaggle (pyproject.toml) ... \u001b[?25ldone\n",
      "\u001b[?25h  Created wheel for kaggle: filename=kaggle-1.5.12-py3-none-any.whl size=73076 sha256=a84203590e41974909dc05e21e99dcd62bbd1576ee65821a4876c5fa01c6c6d9\n",
      "  Stored in directory: /home/codespace/.cache/pip/wheels/f5/69/4d/d701fc604b9fb09be59718b4056fd5556a22588ce1f25dd090\n",
      "Successfully built kaggle\n",
      "Installing collected packages: text-unidecode, tqdm, python-slugify, kaggle\n",
      "\u001b[?25l\u001b[33m  WARNING: The script tqdm is installed in '/usr/local/python/3.12.1/bin' which is not on PATH.\n",
      "  Consider adding this directory to PATH or, if you prefer to suppress this warning, use --no-warn-script-location.\u001b[0m\u001b[33m\n",
      "\u001b[0m\u001b[33m  WARNING: The script slugify is installed in '/usr/local/python/3.12.1/bin' which is not on PATH.\n",
      "  Consider adding this directory to PATH or, if you prefer to suppress this warning, use --no-warn-script-location.\u001b[0m\u001b[33m\n",
      "\u001b[0m\u001b[33m  WARNING: The script kaggle is installed in '/usr/local/python/3.12.1/bin' which is not on PATH.\n",
      "  Consider adding this directory to PATH or, if you prefer to suppress this warning, use --no-warn-script-location.\u001b[0m\u001b[33m\n",
      "\u001b[2K   \u001b[90m━━━━━━━━━━━━━━━━━━━━━━━━━━━━━━━━━━━━━━━━\u001b[0m \u001b[32m4/4\u001b[0m [kaggle]\n",
      "\u001b[1A\u001b[2KSuccessfully installed kaggle-1.5.12 python-slugify-8.0.4 text-unidecode-1.3 tqdm-4.67.1\n",
      "Note: you may need to restart the kernel to use updated packages.\n"
     ]
    }
   ],
   "source": [
    "%pip install kaggle==1.5.12"
   ]
  },
  {
   "cell_type": "markdown",
   "id": "3b858e29",
   "metadata": {},
   "source": [
    "Recognise token"
   ]
  },
  {
   "cell_type": "code",
   "execution_count": 6,
   "id": "b0c46cc7",
   "metadata": {},
   "outputs": [],
   "source": [
    "import os \n",
    "os.environ['KAGGLE_CONFIG_DIR'] = os.getcwd()\n",
    "! chmod 600 kaggle.json"
   ]
  },
  {
   "cell_type": "markdown",
   "id": "11b47bf3",
   "metadata": {},
   "source": [
    "Define Kaggle dataset and destination folder"
   ]
  },
  {
   "cell_type": "code",
   "execution_count": 7,
   "id": "46ec42dc",
   "metadata": {},
   "outputs": [
    {
     "name": "stdout",
     "output_type": "stream",
     "text": [
      "Downloading housing-prices-data.zip to inputs/datasets/raw\n",
      "  0%|                                               | 0.00/49.6k [00:00<?, ?B/s]\n",
      "100%|███████████████████████████████████████| 49.6k/49.6k [00:00<00:00, 602kB/s]\n"
     ]
    }
   ],
   "source": [
    "KaggleDatasetPath = \"codeinstitute/housing-prices-data\"\n",
    "DestinationFolder = \"inputs/datasets/raw\"   \n",
    "! kaggle datasets download -d {KaggleDatasetPath} -p {DestinationFolder}"
   ]
  },
  {
   "cell_type": "markdown",
   "id": "b2f502d4",
   "metadata": {},
   "source": [
    "Unzip downloaded file, delete the zip file, delete the kaggle.json file"
   ]
  },
  {
   "cell_type": "code",
   "execution_count": 8,
   "id": "b8579908",
   "metadata": {},
   "outputs": [
    {
     "name": "stdout",
     "output_type": "stream",
     "text": [
      "Archive:  inputs/datasets/raw/housing-prices-data.zip\n",
      "  inflating: inputs/datasets/raw/house-metadata.txt  \n",
      "  inflating: inputs/datasets/raw/house-price-20211124T154130Z-001/house-price/house_prices_records.csv  \n",
      "  inflating: inputs/datasets/raw/house-price-20211124T154130Z-001/house-price/inherited_houses.csv  \n"
     ]
    }
   ],
   "source": [
    "! unzip {DestinationFolder}/*.zip -d {DestinationFolder} \\\n",
    "  && rm {DestinationFolder}/*.zip \\\n",
    "  && rm kaggle.json"
   ]
  },
  {
   "cell_type": "markdown",
   "id": "5a3778ae",
   "metadata": {},
   "source": []
  }
 ],
 "metadata": {
  "kernelspec": {
   "display_name": "Python 3 (ipykernel)",
   "language": "python",
   "name": "python3"
  },
  "language_info": {
   "codemirror_mode": {
    "name": "ipython",
    "version": 3
   },
   "file_extension": ".py",
   "mimetype": "text/x-python",
   "name": "python",
   "nbconvert_exporter": "python",
   "pygments_lexer": "ipython3",
   "version": "3.12.1"
  }
 },
 "nbformat": 4,
 "nbformat_minor": 5
}
