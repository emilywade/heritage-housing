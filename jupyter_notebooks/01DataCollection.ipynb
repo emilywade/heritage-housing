{
 "cells": [
  {
   "cell_type": "markdown",
   "id": "c1162862",
   "metadata": {},
   "source": [
    "# Data Collection Notebook"
   ]
  },
  {
   "cell_type": "markdown",
   "id": "c6200025",
   "metadata": {},
   "source": [
    "## Objectives\n",
    "- Fetch data from Kaggle\n",
    "- Save it as raw data\n",
    "- Inspect the data\n",
    "- Save it under outputs/datasets/collection"
   ]
  },
  {
   "cell_type": "markdown",
   "id": "453b013f",
   "metadata": {},
   "source": [
    "## Inputs\n",
    "- Kaggle JSON file - the authentication token"
   ]
  },
  {
   "cell_type": "markdown",
   "id": "38095e05",
   "metadata": {},
   "source": [
    "## Outputs \n",
    "- Generate dataset: outputs/datasets/collection/HousingMarket.csv"
   ]
  },
  {
   "cell_type": "markdown",
   "id": "1ded9652",
   "metadata": {},
   "source": [
    "---"
   ]
  },
  {
   "cell_type": "markdown",
   "id": "141e2398",
   "metadata": {},
   "source": [
    "## Change working directory\n",
    "Changing current working directory to its parent folder"
   ]
  },
  {
   "cell_type": "code",
   "execution_count": null,
   "id": "73b12bbd",
   "metadata": {},
   "outputs": [],
   "source": [
    "import os \n",
    "cwd = os.getcwd()\n",
    "cwd"
   ]
  },
  {
   "cell_type": "code",
   "execution_count": null,
   "id": "71772c4d",
   "metadata": {},
   "outputs": [],
   "source": [
    "os.chdir(os.path.dirname(cwd))\n",
    "print(\"You set a new current working directory\")"
   ]
  },
  {
   "cell_type": "code",
   "execution_count": null,
   "id": "b639194b",
   "metadata": {},
   "outputs": [],
   "source": [
    "cwd = os.getcwd()\n",
    "cwd"
   ]
  },
  {
   "cell_type": "markdown",
   "id": "3c4d8753",
   "metadata": {},
   "source": [
    "## Fetch data from Kaggle\n",
    "Install Kaggle package to fetch data"
   ]
  },
  {
   "cell_type": "code",
   "execution_count": null,
   "id": "c974eefd",
   "metadata": {},
   "outputs": [],
   "source": [
    "%pip install kaggle==1.5.12"
   ]
  },
  {
   "cell_type": "markdown",
   "id": "3b858e29",
   "metadata": {},
   "source": [
    "Recognise token"
   ]
  },
  {
   "cell_type": "code",
   "execution_count": null,
   "id": "b0c46cc7",
   "metadata": {},
   "outputs": [],
   "source": [
    "import os \n",
    "os.environ['KAGGLE_CONFIG_DIR'] = os.getcwd()\n",
    "! chmod 600 kaggle.json"
   ]
  },
  {
   "cell_type": "markdown",
   "id": "11b47bf3",
   "metadata": {},
   "source": [
    "Define Kaggle dataset and destination folder"
   ]
  },
  {
   "cell_type": "code",
   "execution_count": null,
   "id": "46ec42dc",
   "metadata": {},
   "outputs": [],
   "source": [
    "KaggleDatasetPath = \"codeinstitute/housing-prices-data\"\n",
    "DestinationFolder = \"inputs/datasets/raw\"   \n",
    "! kaggle datasets download -d {KaggleDatasetPath} -p {DestinationFolder}"
   ]
  },
  {
   "cell_type": "markdown",
   "id": "b2f502d4",
   "metadata": {},
   "source": [
    "Unzip downloaded file, delete the zip file, delete the kaggle.json file"
   ]
  },
  {
   "cell_type": "code",
   "execution_count": null,
   "id": "b8579908",
   "metadata": {},
   "outputs": [],
   "source": [
    "! unzip {DestinationFolder}/*.zip -d {DestinationFolder} \\\n",
    "  && rm {DestinationFolder}/*.zip \\\n",
    "  && rm kaggle.json"
   ]
  },
  {
   "cell_type": "code",
   "execution_count": null,
   "id": "5a3778ae",
   "metadata": {},
   "outputs": [],
   "source": [
    "---"
   ]
  },
  {
   "cell_type": "markdown",
   "id": "64a416f9",
   "metadata": {},
   "source": [
    "## Load and Inspect Kaggle data"
   ]
  },
  {
   "cell_type": "code",
   "execution_count": null,
   "id": "9b77c083",
   "metadata": {},
   "outputs": [],
   "source": [
    "import pandas as pd\n",
    "df_house_prices = pd.read_csv(f\"inputs/datasets/raw/house-price-20211124T154130Z-001/house-price/house_prices_records.csv\")\n",
    "df_house_prices.head()"
   ]
  },
  {
   "cell_type": "code",
   "execution_count": null,
   "id": "d27bbd3d",
   "metadata": {},
   "outputs": [],
   "source": [
    "df_inherited = pd.read_csv(f\"inputs/datasets/raw/house-price-20211124T154130Z-001/house-price/inherited_houses.csv\")\n",
    "df_inherited.head()"
   ]
  },
  {
   "cell_type": "code",
   "execution_count": null,
   "id": "efe081a2",
   "metadata": {},
   "outputs": [],
   "source": [
    "df_house_prices.info(verbose=True)"
   ]
  },
  {
   "cell_type": "code",
   "execution_count": null,
   "id": "1debd2aa",
   "metadata": {},
   "outputs": [],
   "source": [
    "df_inherited.info(verbose=True)"
   ]
  },
  {
   "cell_type": "markdown",
   "id": "60df57cc",
   "metadata": {},
   "source": [
    "Initial Observations:\n",
    "- 1460 entries and 24 columns\n",
    "- Target variable = SalePrice\n",
    "- Mostly numerical columns, with a few categorical columns\n",
    "- Missing data for the following features: 2ndFlrSF, BedroomAbvGr, BsmtExposure, BsmtFinType1, EnclosedPorch, GarageFinish, GarageYrBlt, LotFrontage, MasVnrArea, WoodDeckSF\n",
    "- Missing data - severe for EnclosedPorch and WoodDeckSF\n",
    "- GarageYrBlt, YearBuilt and YearRemodAdd are stored as integers - could derive age values from these columns\n",
    "- Data on inherited houses is complete \n",
    "\n"
   ]
  },
  {
   "cell_type": "markdown",
   "id": "98e59b3e",
   "metadata": {},
   "source": [
    "Deriving Useful Variables:\n",
    "- HouseAge - age of the house in years \n",
    "- RemodAge - years since last remodel\n",
    "- TotalSF - total internal square footage\n",
    "- AboveGradeSF - total internal above grade square footage"
   ]
  },
  {
   "cell_type": "code",
   "execution_count": null,
   "id": "21d1c816",
   "metadata": {},
   "outputs": [],
   "source": [
    "from datetime import datetime\n",
    "\n",
    "current_year = datetime.now().year\n",
    "\n",
    "# df_house_prices\n",
    "df_house_prices['HouseAge'] = current_year - df_house_prices['YearBuilt']\n",
    "df_house_prices['RemodAge'] = current_year - df_house_prices['YearRemodAdd']\n",
    "df_house_prices['GarageAge'] = current_year - df_house_prices['GarageYrBlt']\n",
    "df_house_prices['TotalSF'] = df_house_prices['TotalBsmtSF'] + df_house_prices['1stFlrSF'] + df_house_prices['2ndFlrSF'].fillna(0)\n",
    "df_house_prices['AboveGradeSF'] = df_house_prices['1stFlrSF'] + df_house_prices['2ndFlrSF'].fillna(0)\n",
    "\n",
    "\n",
    "# df_inherited\n",
    "df_inherited['HouseAge'] = current_year - df_inherited['YearBuilt']\n",
    "df_inherited['RemodAge'] = current_year - df_inherited['YearRemodAdd']\n",
    "df_inherited['GarageAge'] = current_year - df_inherited['GarageYrBlt']\n",
    "df_inherited['TotalSF'] = df_inherited['TotalBsmtSF'] + df_inherited['1stFlrSF'] + df_inherited['2ndFlrSF'].fillna(0)\n",
    "df_inherited['AboveGradeSF'] = df_inherited['1stFlrSF'] + df_inherited['2ndFlrSF'].fillna(0)"
   ]
  },
  {
   "cell_type": "markdown",
   "id": "67054f8b",
   "metadata": {},
   "source": [
    "Creating Flags:\n",
    "- IsRemodeled - boolean variable to distinguish remodeled vs original condition\n",
    "- Has2ndFlr: 1=has second floor, 0=does not have second floor\n",
    "- HasPorch: 1=has enclosed porch, 0=does not have enclosed porch\n",
    "- HasDeck: 1=has wood deck, 0=does not have wood deck"
   ]
  },
  {
   "cell_type": "code",
   "execution_count": null,
   "id": "bffa92a9",
   "metadata": {},
   "outputs": [],
   "source": [
    "# df_house_prices\n",
    "df_house_prices['IsRemodeled'] = (df_house_prices['YearBuilt'] != df_house_prices['YearRemodAdd']).astype(int)\n",
    "df_house_prices['Has2ndFlr'] = (df_house_prices['2ndFlrSF'] > 0).astype(int)\n",
    "df_house_prices['HasPorch'] = (df_house_prices['EnclosedPorch'].fillna(0) > 0).astype(int)\n",
    "df_house_prices['HasDeck'] = (df_house_prices['WoodDeckSF'].fillna(0) > 0).astype(int)\n",
    "\n",
    "# df_inherited\n",
    "df_inherited['IsRemodeled'] = (df_inherited['YearBuilt'] != df_inherited['YearRemodAdd']).astype(int)\n",
    "df_inherited['Has2ndFlr'] = (df_inherited['2ndFlrSF'] > 0).astype(int)\n",
    "df_inherited['HasPorch'] = (df_inherited['EnclosedPorch'].fillna(0) > 0).astype(int)\n",
    "df_inherited['HasDeck'] = (df_inherited['WoodDeckSF'].fillna(0) > 0).astype(int)"
   ]
  },
  {
   "cell_type": "markdown",
   "id": "6bef9435",
   "metadata": {},
   "source": [
    "Dropping year columns - unhelpful to train a model"
   ]
  },
  {
   "cell_type": "code",
   "execution_count": null,
   "id": "18b8ffa5",
   "metadata": {},
   "outputs": [],
   "source": [
    "df_house_prices.drop(['YearBuilt', 'YearRemodAdd', 'GarageYrBlt'], axis=1, inplace=True)\n",
    "df_inherited.drop(['YearBuilt', 'YearRemodAdd', 'GarageYrBlt'], axis=1, inplace=True)\n",
    "\n",
    "df_house_prices.head()"
   ]
  },
  {
   "cell_type": "markdown",
   "id": "7afb00d8",
   "metadata": {},
   "source": [
    "## Create output file"
   ]
  },
  {
   "cell_type": "code",
   "execution_count": null,
   "id": "10cffa9a",
   "metadata": {},
   "outputs": [],
   "source": [
    "import pandas as pd\n",
    "\n",
    "print(pd.__version__)"
   ]
  },
  {
   "cell_type": "code",
   "execution_count": null,
   "id": "4e9fda32",
   "metadata": {},
   "outputs": [],
   "source": [
    "%pip install pathLib"
   ]
  },
  {
   "cell_type": "code",
   "execution_count": null,
   "id": "50f85d2c",
   "metadata": {},
   "outputs": [],
   "source": [
    "from pathlib import Path\n",
    "\n",
    "out_dir = Path(\"outputs/datasets/collection\")\n",
    "out_dir.mkdir(parents=True, exist_ok=True)\n",
    "\n",
    "df_house_prices.to_csv(out_dir / \"HousingPrices.csv\", index=False)\n",
    "df_inherited.to_csv(out_dir / \"InheritedHouses.csv\", index=False)"
   ]
  },
  {
   "cell_type": "code",
   "execution_count": null,
   "id": "2aa417fe",
   "metadata": {},
   "outputs": [],
   "source": []
  }
 ],
 "metadata": {
  "kernelspec": {
   "display_name": "Python 3 (ipykernel)",
   "language": "python",
   "name": "python3"
  },
  "language_info": {
   "codemirror_mode": {
    "name": "ipython",
    "version": 3
   },
   "file_extension": ".py",
   "mimetype": "text/x-python",
   "name": "python",
   "nbconvert_exporter": "python",
   "pygments_lexer": "ipython3",
   "version": "3.12.1"
  }
 },
 "nbformat": 4,
 "nbformat_minor": 5
}
