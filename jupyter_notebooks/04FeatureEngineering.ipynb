{
 "cells": [
  {
   "cell_type": "markdown",
   "id": "1a4cb46b",
   "metadata": {},
   "source": [
    "# Feature Engineering Notebook"
   ]
  },
  {
   "cell_type": "markdown",
   "id": "cf7857bc",
   "metadata": {},
   "source": [
    "## Objectives"
   ]
  },
  {
   "cell_type": "markdown",
   "id": "01401c89",
   "metadata": {},
   "source": [
    "- Engineer features for Regression and Decision Tree models"
   ]
  },
  {
   "cell_type": "markdown",
   "id": "a16289f9",
   "metadata": {},
   "source": [
    "## Inputs"
   ]
  },
  {
   "cell_type": "markdown",
   "id": "ddfe6c81",
   "metadata": {},
   "source": [
    "- outputs/datasets/cleaned/TrainSetCleaned.csv\n",
    "- outputs/datasets/cleaned/TestSetCleaned.csv"
   ]
  },
  {
   "cell_type": "markdown",
   "id": "a4d08973",
   "metadata": {},
   "source": [
    "## Outputs"
   ]
  },
  {
   "cell_type": "markdown",
   "id": "9e23496a",
   "metadata": {},
   "source": [
    "- generate a list with variables to engineer"
   ]
  },
  {
   "cell_type": "markdown",
   "id": "10f71f71",
   "metadata": {},
   "source": [
    "---"
   ]
  },
  {
   "cell_type": "markdown",
   "id": "9839644c",
   "metadata": {},
   "source": [
    "## Change working directory\n",
    "Change current working directory to its parent"
   ]
  },
  {
   "cell_type": "code",
   "execution_count": null,
   "id": "3608b5b2",
   "metadata": {},
   "outputs": [],
   "source": [
    "import os \n",
    "cwd = os.getcwd()\n",
    "cwd"
   ]
  },
  {
   "cell_type": "code",
   "execution_count": null,
   "id": "f0434542",
   "metadata": {},
   "outputs": [],
   "source": [
    "os.chdir(os.path.dirname(cwd))\n",
    "print(\"You set a new current working directory\")"
   ]
  },
  {
   "cell_type": "code",
   "execution_count": null,
   "id": "750205f8",
   "metadata": {},
   "outputs": [],
   "source": [
    "cwd = os.getcwd()\n",
    "cwd"
   ]
  },
  {
   "cell_type": "markdown",
   "id": "05441366",
   "metadata": {},
   "source": [
    "---"
   ]
  },
  {
   "cell_type": "markdown",
   "id": "6904e46d",
   "metadata": {},
   "source": [
    "## Load cleaned data"
   ]
  },
  {
   "cell_type": "code",
   "execution_count": 61,
   "id": "d307838c",
   "metadata": {},
   "outputs": [
    {
     "data": {
      "text/html": [
       "<div>\n",
       "<style scoped>\n",
       "    .dataframe tbody tr th:only-of-type {\n",
       "        vertical-align: middle;\n",
       "    }\n",
       "\n",
       "    .dataframe tbody tr th {\n",
       "        vertical-align: top;\n",
       "    }\n",
       "\n",
       "    .dataframe thead th {\n",
       "        text-align: right;\n",
       "    }\n",
       "</style>\n",
       "<table border=\"1\" class=\"dataframe\">\n",
       "  <thead>\n",
       "    <tr style=\"text-align: right;\">\n",
       "      <th></th>\n",
       "      <th>1stFlrSF</th>\n",
       "      <th>2ndFlrSF</th>\n",
       "      <th>BedroomAbvGr</th>\n",
       "      <th>BsmtExposure</th>\n",
       "      <th>BsmtFinSF1</th>\n",
       "      <th>BsmtFinType1</th>\n",
       "      <th>BsmtUnfSF</th>\n",
       "      <th>GarageArea</th>\n",
       "      <th>GarageFinish</th>\n",
       "      <th>GrLivArea</th>\n",
       "      <th>...</th>\n",
       "      <th>SalePrice</th>\n",
       "      <th>HouseAge</th>\n",
       "      <th>RemodAge</th>\n",
       "      <th>GarageAge</th>\n",
       "      <th>TotalSF</th>\n",
       "      <th>AboveGradeSF</th>\n",
       "      <th>IsRemodeled</th>\n",
       "      <th>Has2ndFlr</th>\n",
       "      <th>HasPorch</th>\n",
       "      <th>HasDeck</th>\n",
       "    </tr>\n",
       "  </thead>\n",
       "  <tbody>\n",
       "    <tr>\n",
       "      <th>0</th>\n",
       "      <td>1828</td>\n",
       "      <td>0.0</td>\n",
       "      <td>3.0</td>\n",
       "      <td>Av</td>\n",
       "      <td>48</td>\n",
       "      <td>Missing</td>\n",
       "      <td>1774</td>\n",
       "      <td>774</td>\n",
       "      <td>Unf</td>\n",
       "      <td>1828</td>\n",
       "      <td>...</td>\n",
       "      <td>314813</td>\n",
       "      <td>18</td>\n",
       "      <td>18</td>\n",
       "      <td>18.0</td>\n",
       "      <td>3650.0</td>\n",
       "      <td>1828.0</td>\n",
       "      <td>0</td>\n",
       "      <td>0</td>\n",
       "      <td>0</td>\n",
       "      <td>0</td>\n",
       "    </tr>\n",
       "    <tr>\n",
       "      <th>1</th>\n",
       "      <td>894</td>\n",
       "      <td>0.0</td>\n",
       "      <td>2.0</td>\n",
       "      <td>No</td>\n",
       "      <td>0</td>\n",
       "      <td>Unf</td>\n",
       "      <td>894</td>\n",
       "      <td>308</td>\n",
       "      <td>Missing</td>\n",
       "      <td>894</td>\n",
       "      <td>...</td>\n",
       "      <td>109500</td>\n",
       "      <td>63</td>\n",
       "      <td>63</td>\n",
       "      <td>63.0</td>\n",
       "      <td>1788.0</td>\n",
       "      <td>894.0</td>\n",
       "      <td>0</td>\n",
       "      <td>0</td>\n",
       "      <td>0</td>\n",
       "      <td>0</td>\n",
       "    </tr>\n",
       "    <tr>\n",
       "      <th>2</th>\n",
       "      <td>964</td>\n",
       "      <td>0.0</td>\n",
       "      <td>2.0</td>\n",
       "      <td>No</td>\n",
       "      <td>713</td>\n",
       "      <td>ALQ</td>\n",
       "      <td>163</td>\n",
       "      <td>432</td>\n",
       "      <td>Unf</td>\n",
       "      <td>964</td>\n",
       "      <td>...</td>\n",
       "      <td>163500</td>\n",
       "      <td>104</td>\n",
       "      <td>19</td>\n",
       "      <td>104.0</td>\n",
       "      <td>1840.0</td>\n",
       "      <td>964.0</td>\n",
       "      <td>1</td>\n",
       "      <td>0</td>\n",
       "      <td>0</td>\n",
       "      <td>0</td>\n",
       "    </tr>\n",
       "  </tbody>\n",
       "</table>\n",
       "<p>3 rows × 28 columns</p>\n",
       "</div>"
      ],
      "text/plain": [
       "   1stFlrSF  2ndFlrSF  BedroomAbvGr BsmtExposure  BsmtFinSF1 BsmtFinType1  \\\n",
       "0      1828       0.0           3.0           Av          48      Missing   \n",
       "1       894       0.0           2.0           No           0          Unf   \n",
       "2       964       0.0           2.0           No         713          ALQ   \n",
       "\n",
       "   BsmtUnfSF  GarageArea GarageFinish  GrLivArea  ... SalePrice  HouseAge  \\\n",
       "0       1774         774          Unf       1828  ...    314813        18   \n",
       "1        894         308      Missing        894  ...    109500        63   \n",
       "2        163         432          Unf        964  ...    163500       104   \n",
       "\n",
       "   RemodAge  GarageAge  TotalSF  AboveGradeSF  IsRemodeled  Has2ndFlr  \\\n",
       "0        18       18.0   3650.0        1828.0            0          0   \n",
       "1        63       63.0   1788.0         894.0            0          0   \n",
       "2        19      104.0   1840.0         964.0            1          0   \n",
       "\n",
       "   HasPorch  HasDeck  \n",
       "0         0        0  \n",
       "1         0        0  \n",
       "2         0        0  \n",
       "\n",
       "[3 rows x 28 columns]"
      ]
     },
     "execution_count": 61,
     "metadata": {},
     "output_type": "execute_result"
    }
   ],
   "source": [
    "import pandas as pd\n",
    "train_set_path = \"outputs/datasets/cleaned/TrainSetCleaned.csv\"\n",
    "TrainSet = pd.read_csv(train_set_path)\n",
    "TrainSet.head(3)"
   ]
  },
  {
   "cell_type": "code",
   "execution_count": 62,
   "id": "1f3ddbac",
   "metadata": {},
   "outputs": [
    {
     "data": {
      "text/html": [
       "<div>\n",
       "<style scoped>\n",
       "    .dataframe tbody tr th:only-of-type {\n",
       "        vertical-align: middle;\n",
       "    }\n",
       "\n",
       "    .dataframe tbody tr th {\n",
       "        vertical-align: top;\n",
       "    }\n",
       "\n",
       "    .dataframe thead th {\n",
       "        text-align: right;\n",
       "    }\n",
       "</style>\n",
       "<table border=\"1\" class=\"dataframe\">\n",
       "  <thead>\n",
       "    <tr style=\"text-align: right;\">\n",
       "      <th></th>\n",
       "      <th>1stFlrSF</th>\n",
       "      <th>2ndFlrSF</th>\n",
       "      <th>BedroomAbvGr</th>\n",
       "      <th>BsmtExposure</th>\n",
       "      <th>BsmtFinSF1</th>\n",
       "      <th>BsmtFinType1</th>\n",
       "      <th>BsmtUnfSF</th>\n",
       "      <th>GarageArea</th>\n",
       "      <th>GarageFinish</th>\n",
       "      <th>GrLivArea</th>\n",
       "      <th>...</th>\n",
       "      <th>SalePrice</th>\n",
       "      <th>HouseAge</th>\n",
       "      <th>RemodAge</th>\n",
       "      <th>GarageAge</th>\n",
       "      <th>TotalSF</th>\n",
       "      <th>AboveGradeSF</th>\n",
       "      <th>IsRemodeled</th>\n",
       "      <th>Has2ndFlr</th>\n",
       "      <th>HasPorch</th>\n",
       "      <th>HasDeck</th>\n",
       "    </tr>\n",
       "  </thead>\n",
       "  <tbody>\n",
       "    <tr>\n",
       "      <th>0</th>\n",
       "      <td>2515</td>\n",
       "      <td>0.0</td>\n",
       "      <td>4.0</td>\n",
       "      <td>No</td>\n",
       "      <td>1219</td>\n",
       "      <td>Rec</td>\n",
       "      <td>816</td>\n",
       "      <td>484</td>\n",
       "      <td>Missing</td>\n",
       "      <td>2515</td>\n",
       "      <td>...</td>\n",
       "      <td>200624</td>\n",
       "      <td>68</td>\n",
       "      <td>50</td>\n",
       "      <td>50.0</td>\n",
       "      <td>4550.0</td>\n",
       "      <td>2515.0</td>\n",
       "      <td>1</td>\n",
       "      <td>0</td>\n",
       "      <td>0</td>\n",
       "      <td>0</td>\n",
       "    </tr>\n",
       "    <tr>\n",
       "      <th>1</th>\n",
       "      <td>958</td>\n",
       "      <td>620.0</td>\n",
       "      <td>3.0</td>\n",
       "      <td>No</td>\n",
       "      <td>403</td>\n",
       "      <td>BLQ</td>\n",
       "      <td>238</td>\n",
       "      <td>240</td>\n",
       "      <td>Unf</td>\n",
       "      <td>1578</td>\n",
       "      <td>...</td>\n",
       "      <td>133000</td>\n",
       "      <td>84</td>\n",
       "      <td>75</td>\n",
       "      <td>84.0</td>\n",
       "      <td>2384.0</td>\n",
       "      <td>1578.0</td>\n",
       "      <td>1</td>\n",
       "      <td>1</td>\n",
       "      <td>0</td>\n",
       "      <td>0</td>\n",
       "    </tr>\n",
       "    <tr>\n",
       "      <th>2</th>\n",
       "      <td>979</td>\n",
       "      <td>224.0</td>\n",
       "      <td>3.0</td>\n",
       "      <td>No</td>\n",
       "      <td>185</td>\n",
       "      <td>LwQ</td>\n",
       "      <td>524</td>\n",
       "      <td>352</td>\n",
       "      <td>Unf</td>\n",
       "      <td>1203</td>\n",
       "      <td>...</td>\n",
       "      <td>110000</td>\n",
       "      <td>75</td>\n",
       "      <td>75</td>\n",
       "      <td>75.0</td>\n",
       "      <td>1912.0</td>\n",
       "      <td>1203.0</td>\n",
       "      <td>0</td>\n",
       "      <td>1</td>\n",
       "      <td>0</td>\n",
       "      <td>0</td>\n",
       "    </tr>\n",
       "  </tbody>\n",
       "</table>\n",
       "<p>3 rows × 28 columns</p>\n",
       "</div>"
      ],
      "text/plain": [
       "   1stFlrSF  2ndFlrSF  BedroomAbvGr BsmtExposure  BsmtFinSF1 BsmtFinType1  \\\n",
       "0      2515       0.0           4.0           No        1219          Rec   \n",
       "1       958     620.0           3.0           No         403          BLQ   \n",
       "2       979     224.0           3.0           No         185          LwQ   \n",
       "\n",
       "   BsmtUnfSF  GarageArea GarageFinish  GrLivArea  ... SalePrice  HouseAge  \\\n",
       "0        816         484      Missing       2515  ...    200624        68   \n",
       "1        238         240          Unf       1578  ...    133000        84   \n",
       "2        524         352          Unf       1203  ...    110000        75   \n",
       "\n",
       "   RemodAge  GarageAge  TotalSF  AboveGradeSF  IsRemodeled  Has2ndFlr  \\\n",
       "0        50       50.0   4550.0        2515.0            1          0   \n",
       "1        75       84.0   2384.0        1578.0            1          1   \n",
       "2        75       75.0   1912.0        1203.0            0          1   \n",
       "\n",
       "   HasPorch  HasDeck  \n",
       "0         0        0  \n",
       "1         0        0  \n",
       "2         0        0  \n",
       "\n",
       "[3 rows x 28 columns]"
      ]
     },
     "execution_count": 62,
     "metadata": {},
     "output_type": "execute_result"
    }
   ],
   "source": [
    "test_set_path = \"outputs/datasets/cleaned/TestSetCleaned.csv\"\n",
    "TestSet = pd.read_csv(test_set_path)\n",
    "TestSet.head(3)"
   ]
  },
  {
   "cell_type": "markdown",
   "id": "47e73a42",
   "metadata": {},
   "source": [
    "---"
   ]
  },
  {
   "cell_type": "markdown",
   "id": "ba696e9f",
   "metadata": {},
   "source": [
    "## Feature Engineering"
   ]
  },
  {
   "cell_type": "markdown",
   "id": "b6d4d26b",
   "metadata": {},
   "source": [
    "Defining variables"
   ]
  },
  {
   "cell_type": "markdown",
   "id": "7460cd0e",
   "metadata": {},
   "source": [
    "OverallCond and OverallQual are categorical variables also, but they are already encoded"
   ]
  },
  {
   "cell_type": "code",
   "execution_count": 63,
   "id": "10461892",
   "metadata": {},
   "outputs": [],
   "source": [
    "ordinal_vars = ['BsmtExposure', 'BsmtFinType1', 'GarageFinish', 'KitchenQual']\n",
    "numeric_vars = [\n",
    "    '1stFlrSF', '2ndFlrSF', 'BedroomAbvGr', 'BsmtFinSF1', 'BsmtUnfSF',\n",
    "    'GarageArea', 'GrLivArea', 'LotArea', 'LotFrontage', 'MasVnrArea',\n",
    "    'OpenPorchSF', 'TotalBsmtSF', 'HouseAge', 'RemodAge', 'GarageAge',\n",
    "    'TotalSF', 'AboveGradeSF'\n",
    "]"
   ]
  },
  {
   "cell_type": "code",
   "execution_count": null,
   "id": "36d6ed1e",
   "metadata": {},
   "outputs": [],
   "source": [
    "import matplotlib.pyplot as plt\n",
    "import seaborn as sns\n",
    "import scipy.stats as stats\n",
    "from feature_engine import transformation as vt\n",
    "import pandas as pd\n",
    "\n",
    "def NumericFEAnalysis(df, var):\n",
    "    df_temp = pd.DataFrame({var: df[var].copy()})\n",
    "\n",
    "    transformers = {\n",
    "        'Original': None, \n",
    "        'Log (base e)': vt.LogTransformer(variables=[var]),\n",
    "        'Log (base 10)': vt.LogTransformer(variables=[var], base='10'),\n",
    "        'Reciprocal': vt.ReciprocalTransformer(variables=[var]),\n",
    "        'Power': vt.PowerTransformer(variables=[var]),\n",
    "        'BoxCox': vt.BoxCoxTransformer(variables=[var]),\n",
    "        'YeoJohnson': vt.YeoJohnsonTransformer(variables=[var])\n",
    "    }\n",
    "\n",
    "    n_transforms = len(transformers)\n",
    "    fig, axs = plt.subplots(n_transforms, 3, figsize=(15, 5*n_transforms))\n",
    "\n",
    "    if n_transforms == 1:\n",
    "        axs = [axs]\n",
    "    \n",
    "    for i, (name, transformer) in enumerate(transformers.items()):\n",
    "        if transformer is None:\n",
    "            data_trans = df_temp[var].dropna()\n",
    "        else:\n",
    "            try:\n",
    "                data_trans = transformer.fit_transform(df_temp[[var]])[var].dropna()\n",
    "            except Exception as e:\n",
    "                print(f\"Transformer {name} failed on {var}: {e}\")\n",
    "                continue\n",
    "        \n",
    "        # Histogram\n",
    "        sns.histplot(data_trans, kde=True, ax=axs[i][0])\n",
    "        axs[i][0].set_title(f'{var} - {name} Histogram')\n",
    "\n",
    "        # Q-Q plot\n",
    "        stats.probplot(data_trans, dist=\"norm\", plot=axs[i][1])\n",
    "        axs[i][1].set_title(f'{var} - {name} Q-Q Plot')\n",
    "\n",
    "        # Boxplot\n",
    "        sns.boxplot(x=data_trans, ax=axs[i][2])\n",
    "        axs[i][2].set_title(f'{var} - {name} Boxplot')\n",
    "\n",
    "    plt.tight_layout()\n",
    "    plt.show()\n",
    "\n",
    "\n",
    "for num_var in numeric_vars:\n",
    "    NumericFEAnalysis(TrainSet, num_var)"
   ]
  },
  {
   "cell_type": "markdown",
   "id": "de551d9e",
   "metadata": {},
   "source": [
    "Conclusions\n",
    "- 1stFlrSf, GrLivArea, TotalSF and AboveGrSF should be numerically transformed, details in summary sheet. \n",
    "- Binary flags (IsRemodeled, Has2ndFlr, HasPorch, HasDeck) don't require encoding.\n",
    "- Categorical variables (KitchenQual, BsmtExposure, BsmtFinType1, GarageFinish) require ordinal encoding."
   ]
  },
  {
   "cell_type": "markdown",
   "id": "ac30c559",
   "metadata": {},
   "source": [
    "### Determine whether to handle outliers or discretise numeric variables"
   ]
  },
  {
   "cell_type": "code",
   "execution_count": 64,
   "id": "f614c9b0",
   "metadata": {},
   "outputs": [],
   "source": [
    "import pandas as pd\n",
    "import numpy as np\n",
    "\n",
    "def check_winsor_discretisation(df, numeric_vars, skew_threshold=1.0):\n",
    "    summary = []\n",
    "\n",
    "    for var in numeric_vars:\n",
    "        data = df[var].dropna()\n",
    "\n",
    "        skewness = data.skew()\n",
    "\n",
    "        q1 = data.quantile(0.25)\n",
    "        q3 = data.quantile(0.75)\n",
    "        iqr = q3 - q1\n",
    "        upper_whisker = q3 + 1.5 * iqr\n",
    "        max_value = data.max()\n",
    "\n",
    "        if skewness > skew_threshold or max_value > upper_whisker * 3:\n",
    "            winsor_flag = \"Yes\"\n",
    "            reason_winsor = f\"High skewness ({skewness:.2f}) or extreme max ({max_value:.0f} > {upper_whisker * 3:.0f})\"\n",
    "        else:\n",
    "            winsor_flag = \"No\"\n",
    "            reason_winsor = \"Skewness and outliers not extreme\"\n",
    "\n",
    "        if skewness > skew_threshold:\n",
    "            disc_flag = \"Yes\"\n",
    "            reason_disc = f\"High skewness ({skewness:.2f})\"\n",
    "        else:\n",
    "            disc_flag = \"No\"\n",
    "            reason_disc = \"Distribution roughly symmetric\"\n",
    "\n",
    "        summary.append({\n",
    "            \"Variable\": var,\n",
    "            \"Skewness\": round(skewness, 2),\n",
    "            \"Max\": max_value,\n",
    "            \"Should Winsorize\": winsor_flag,\n",
    "            \"Reason Winsorize\": reason_winsor,\n",
    "            \"Should Discretize\": disc_flag,\n",
    "            \"Reason Discretize\": reason_disc\n",
    "        })\n",
    "\n",
    "    return pd.DataFrame(summary)\n"
   ]
  },
  {
   "cell_type": "code",
   "execution_count": null,
   "id": "57b6f834",
   "metadata": {},
   "outputs": [],
   "source": [
    "summary_df = check_winsor_discretisation(TrainSet, numeric_vars)\n",
    "summary_df"
   ]
  },
  {
   "cell_type": "markdown",
   "id": "8b3ec5e6",
   "metadata": {},
   "source": [
    "### Creating pipeline "
   ]
  },
  {
   "cell_type": "code",
   "execution_count": 65,
   "id": "b0c91d47",
   "metadata": {},
   "outputs": [],
   "source": [
    "from sklearn.pipeline import Pipeline\n",
    "from feature_engine.transformation import LogTransformer, PowerTransformer\n",
    "from feature_engine.outliers import Winsorizer\n",
    "from feature_engine.discretisation import EqualWidthDiscretiser \n",
    "\n",
    "# not using OrdinalEncoder since the order of categories matters, defining manual mappings\n",
    "\n",
    "TrainSet_copy = TrainSet.copy()\n",
    "\n",
    "mapping_KitchenQual = {'Ex':4, 'Gd':3, 'TA':2, 'Fa':1}\n",
    "mapping_BsmtExposure = {'Gd':5, 'Av':4, 'Mn':3, 'No':2, 'Missing':1}\n",
    "mapping_BsmtFinType1 = {'GLQ':7, 'ALQ':6, 'BLQ':5, 'Rec':4, 'LwQ':3, 'Unf':2, 'Missing':1}\n",
    "mapping_GarageFinish = {'Fin':4, 'RFn':3, 'Unf':2, 'Missing':1}\n",
    "\n",
    "\n",
    "TrainSet_copy['KitchenQual_enc'] = TrainSet_copy['KitchenQual'].map(mapping_KitchenQual)\n",
    "TrainSet_copy['BsmtExposure_enc'] = TrainSet_copy['BsmtExposure'].map(mapping_BsmtExposure)\n",
    "TrainSet_copy['BsmtFinType1_enc'] = TrainSet_copy['BsmtFinType1'].map(mapping_BsmtFinType1)\n",
    "TrainSet_copy['GarageFinish_enc'] = TrainSet_copy['GarageFinish'].map(mapping_GarageFinish)\n",
    "\n",
    "TrainSet_copy = TrainSet_copy.drop(columns=['KitchenQual', 'BsmtExposure', 'BsmtFinType1', 'GarageFinish'])"
   ]
  },
  {
   "cell_type": "code",
   "execution_count": 66,
   "id": "8dfc5b1e",
   "metadata": {},
   "outputs": [],
   "source": [
    "TestSet_copy = TestSet.copy()\n",
    "\n",
    "mapping_KitchenQual = {'Ex':4, 'Gd':3, 'TA':2, 'Fa':1}\n",
    "mapping_BsmtExposure = {'Gd':5, 'Av':4, 'Mn':3, 'No':2, 'Missing':1}\n",
    "mapping_BsmtFinType1 = {'GLQ':7, 'ALQ':6, 'BLQ':5, 'Rec':4, 'LwQ':3, 'Unf':2, 'Missing':1}\n",
    "mapping_GarageFinish = {'Fin':4, 'RFn':3, 'Unf':2, 'Missing':1}\n",
    "\n",
    "\n",
    "TestSet_copy['KitchenQual_enc'] = TestSet_copy['KitchenQual'].map(mapping_KitchenQual)\n",
    "TestSet_copy['BsmtExposure_enc'] = TestSet_copy['BsmtExposure'].map(mapping_BsmtExposure)\n",
    "TestSet_copy['BsmtFinType1_enc'] = TestSet_copy['BsmtFinType1'].map(mapping_BsmtFinType1)\n",
    "TestSet_copy['GarageFinish_enc'] = TestSet_copy['GarageFinish'].map(mapping_GarageFinish)\n",
    "\n",
    "TestSet_copy = TestSet_copy.drop(columns=['KitchenQual', 'BsmtExposure', 'BsmtFinType1', 'GarageFinish'])"
   ]
  },
  {
   "cell_type": "code",
   "execution_count": 68,
   "id": "e5aa62aa",
   "metadata": {},
   "outputs": [],
   "source": [
    "winsor_vars = ['GrLivArea', 'LotArea', 'LotFrontage', 'MasVnrArea', 'OpenPorchSF', 'AboveGradeSF']\n",
    "log_vars = ['1stFlrSF', 'GrLivArea', 'AboveGradeSF']\n",
    "power_vars = ['TotalSF']\n",
    "\n",
    "winsorizer = Winsorizer(\n",
    "    capping_method='iqr',\n",
    "    tail='both',\n",
    "    fold=1.5,\n",
    "    variables=winsor_vars\n",
    ")\n",
    "\n",
    "log_transformer = LogTransformer(variables=log_vars)\n",
    "power_transformer = PowerTransformer(variables=power_vars)\n",
    "\n",
    "discretiser = EqualWidthDiscretiser(bins=5, variables=winsor_vars)\n",
    "\n",
    "numerical_pipeline = Pipeline([\n",
    "    ('winsorizer', winsorizer),\n",
    "    ('log_transformer', log_transformer),\n",
    "    ('power_transformer', power_transformer),\n",
    "    ('discretiser', discretiser)\n",
    "])\n",
    "\n",
    "numerical_pipeline.fit(TrainSet_copy)\n",
    "\n",
    "TrainSet_transformed = numerical_pipeline.transform(TrainSet_copy)\n",
    "TestSet_transformed = numerical_pipeline.transform(TestSet_copy)\n"
   ]
  },
  {
   "cell_type": "code",
   "execution_count": 69,
   "id": "2e13c870",
   "metadata": {},
   "outputs": [
    {
     "name": "stdout",
     "output_type": "stream",
     "text": [
      "<class 'pandas.core.frame.DataFrame'>\n",
      "RangeIndex: 1168 entries, 0 to 1167\n",
      "Data columns (total 28 columns):\n",
      " #   Column            Non-Null Count  Dtype  \n",
      "---  ------            --------------  -----  \n",
      " 0   1stFlrSF          1168 non-null   float64\n",
      " 1   2ndFlrSF          1168 non-null   float64\n",
      " 2   BedroomAbvGr      1168 non-null   float64\n",
      " 3   BsmtFinSF1        1168 non-null   int64  \n",
      " 4   BsmtUnfSF         1168 non-null   int64  \n",
      " 5   GarageArea        1168 non-null   int64  \n",
      " 6   GrLivArea         1168 non-null   int64  \n",
      " 7   LotArea           1168 non-null   int64  \n",
      " 8   LotFrontage       1168 non-null   int64  \n",
      " 9   MasVnrArea        1168 non-null   int64  \n",
      " 10  OpenPorchSF       1168 non-null   int64  \n",
      " 11  OverallCond       1168 non-null   int64  \n",
      " 12  OverallQual       1168 non-null   int64  \n",
      " 13  TotalBsmtSF       1168 non-null   int64  \n",
      " 14  SalePrice         1168 non-null   int64  \n",
      " 15  HouseAge          1168 non-null   int64  \n",
      " 16  RemodAge          1168 non-null   int64  \n",
      " 17  GarageAge         1168 non-null   float64\n",
      " 18  TotalSF           1168 non-null   float64\n",
      " 19  AboveGradeSF      1168 non-null   int64  \n",
      " 20  IsRemodeled       1168 non-null   int64  \n",
      " 21  Has2ndFlr         1168 non-null   int64  \n",
      " 22  HasPorch          1168 non-null   int64  \n",
      " 23  HasDeck           1168 non-null   int64  \n",
      " 24  KitchenQual_enc   1168 non-null   int64  \n",
      " 25  BsmtExposure_enc  1168 non-null   int64  \n",
      " 26  BsmtFinType1_enc  1168 non-null   int64  \n",
      " 27  GarageFinish_enc  1168 non-null   int64  \n",
      "dtypes: float64(5), int64(23)\n",
      "memory usage: 255.6 KB\n"
     ]
    }
   ],
   "source": [
    "TrainSet_transformed.info()"
   ]
  },
  {
   "cell_type": "markdown",
   "id": "e9d763f6",
   "metadata": {},
   "source": [
    "---"
   ]
  },
  {
   "cell_type": "markdown",
   "id": "2da4002e",
   "metadata": {},
   "source": [
    "## Saving outputs"
   ]
  },
  {
   "cell_type": "code",
   "execution_count": 70,
   "id": "e94b7d35",
   "metadata": {},
   "outputs": [],
   "source": [
    "from pathlib import Path\n",
    "\n",
    "out_dir = Path(\"outputs/datasets/cleaned\")\n",
    "out_dir.mkdir(parents=True, exist_ok=True)\n",
    "\n",
    "TrainSet_transformed.to_csv(out_dir / \"TrainSet_FeatureEngineered.csv\", index=False)\n",
    "TestSet_transformed.to_csv(out_dir / \"TestSet_FeatureEngineered.csv\", index=False)"
   ]
  },
  {
   "cell_type": "code",
   "execution_count": null,
   "id": "bda62435",
   "metadata": {},
   "outputs": [],
   "source": []
  }
 ],
 "metadata": {
  "kernelspec": {
   "display_name": "Python 3",
   "language": "python",
   "name": "python3"
  },
  "language_info": {
   "codemirror_mode": {
    "name": "ipython",
    "version": 3
   },
   "file_extension": ".py",
   "mimetype": "text/x-python",
   "name": "python",
   "nbconvert_exporter": "python",
   "pygments_lexer": "ipython3",
   "version": "3.12.1"
  }
 },
 "nbformat": 4,
 "nbformat_minor": 5
}
