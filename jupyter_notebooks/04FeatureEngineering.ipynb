{
 "cells": [
  {
   "cell_type": "markdown",
   "id": "1a4cb46b",
   "metadata": {},
   "source": [
    "# Feature Engineering Notebook"
   ]
  },
  {
   "cell_type": "markdown",
   "id": "cf7857bc",
   "metadata": {},
   "source": [
    "## Objectives"
   ]
  },
  {
   "cell_type": "markdown",
   "id": "01401c89",
   "metadata": {},
   "source": [
    "- Engineer features for Regression and Decision Tree models"
   ]
  },
  {
   "cell_type": "markdown",
   "id": "a16289f9",
   "metadata": {},
   "source": [
    "## Inputs"
   ]
  },
  {
   "cell_type": "markdown",
   "id": "ddfe6c81",
   "metadata": {},
   "source": [
    "- outputs/datasets/cleaned/TrainSetCleaned.csv\n",
    "- outputs/datasets/cleaned/TestSetCleaned.csv"
   ]
  },
  {
   "cell_type": "markdown",
   "id": "a4d08973",
   "metadata": {},
   "source": [
    "## Outputs"
   ]
  },
  {
   "cell_type": "markdown",
   "id": "9e23496a",
   "metadata": {},
   "source": [
    "- generate a list with variables to engineer"
   ]
  },
  {
   "cell_type": "markdown",
   "id": "10f71f71",
   "metadata": {},
   "source": [
    "---"
   ]
  },
  {
   "cell_type": "markdown",
   "id": "9839644c",
   "metadata": {},
   "source": [
    "## Change working directory\n",
    "Change current working directory to its parent"
   ]
  },
  {
   "cell_type": "code",
   "execution_count": 1,
   "id": "3608b5b2",
   "metadata": {},
   "outputs": [
    {
     "data": {
      "text/plain": [
       "'/workspaces/heritage-housing/jupyter_notebooks'"
      ]
     },
     "execution_count": 1,
     "metadata": {},
     "output_type": "execute_result"
    }
   ],
   "source": [
    "import os \n",
    "cwd = os.getcwd()\n",
    "cwd"
   ]
  },
  {
   "cell_type": "code",
   "execution_count": 2,
   "id": "f0434542",
   "metadata": {},
   "outputs": [
    {
     "name": "stdout",
     "output_type": "stream",
     "text": [
      "You set a new current working directory\n"
     ]
    }
   ],
   "source": [
    "os.chdir(os.path.dirname(cwd))\n",
    "print(\"You set a new current working directory\")"
   ]
  },
  {
   "cell_type": "code",
   "execution_count": 3,
   "id": "750205f8",
   "metadata": {},
   "outputs": [
    {
     "data": {
      "text/plain": [
       "'/workspaces/heritage-housing'"
      ]
     },
     "execution_count": 3,
     "metadata": {},
     "output_type": "execute_result"
    }
   ],
   "source": [
    "cwd = os.getcwd()\n",
    "cwd"
   ]
  },
  {
   "cell_type": "markdown",
   "id": "05441366",
   "metadata": {},
   "source": [
    "---"
   ]
  },
  {
   "cell_type": "markdown",
   "id": "6904e46d",
   "metadata": {},
   "source": [
    "## Load cleaned data"
   ]
  },
  {
   "cell_type": "code",
   "execution_count": 5,
   "id": "d307838c",
   "metadata": {},
   "outputs": [
    {
     "data": {
      "text/html": [
       "<div>\n",
       "<style scoped>\n",
       "    .dataframe tbody tr th:only-of-type {\n",
       "        vertical-align: middle;\n",
       "    }\n",
       "\n",
       "    .dataframe tbody tr th {\n",
       "        vertical-align: top;\n",
       "    }\n",
       "\n",
       "    .dataframe thead th {\n",
       "        text-align: right;\n",
       "    }\n",
       "</style>\n",
       "<table border=\"1\" class=\"dataframe\">\n",
       "  <thead>\n",
       "    <tr style=\"text-align: right;\">\n",
       "      <th></th>\n",
       "      <th>1stFlrSF</th>\n",
       "      <th>2ndFlrSF</th>\n",
       "      <th>BedroomAbvGr</th>\n",
       "      <th>BsmtExposure</th>\n",
       "      <th>BsmtFinSF1</th>\n",
       "      <th>BsmtFinType1</th>\n",
       "      <th>BsmtUnfSF</th>\n",
       "      <th>GarageArea</th>\n",
       "      <th>GarageFinish</th>\n",
       "      <th>GrLivArea</th>\n",
       "      <th>...</th>\n",
       "      <th>TotalBsmtSF</th>\n",
       "      <th>HouseAge</th>\n",
       "      <th>RemodAge</th>\n",
       "      <th>GarageAge</th>\n",
       "      <th>TotalSF</th>\n",
       "      <th>AboveGradeSF</th>\n",
       "      <th>IsRemodeled</th>\n",
       "      <th>Has2ndFlr</th>\n",
       "      <th>HasPorch</th>\n",
       "      <th>HasDeck</th>\n",
       "    </tr>\n",
       "  </thead>\n",
       "  <tbody>\n",
       "    <tr>\n",
       "      <th>0</th>\n",
       "      <td>1828</td>\n",
       "      <td>0.0</td>\n",
       "      <td>3.0</td>\n",
       "      <td>Av</td>\n",
       "      <td>48</td>\n",
       "      <td>Missing</td>\n",
       "      <td>1774</td>\n",
       "      <td>774</td>\n",
       "      <td>Unf</td>\n",
       "      <td>1828</td>\n",
       "      <td>...</td>\n",
       "      <td>1822</td>\n",
       "      <td>18</td>\n",
       "      <td>18</td>\n",
       "      <td>18.0</td>\n",
       "      <td>3650.0</td>\n",
       "      <td>1828.0</td>\n",
       "      <td>0</td>\n",
       "      <td>0</td>\n",
       "      <td>0</td>\n",
       "      <td>0</td>\n",
       "    </tr>\n",
       "    <tr>\n",
       "      <th>1</th>\n",
       "      <td>894</td>\n",
       "      <td>0.0</td>\n",
       "      <td>2.0</td>\n",
       "      <td>No</td>\n",
       "      <td>0</td>\n",
       "      <td>Unf</td>\n",
       "      <td>894</td>\n",
       "      <td>308</td>\n",
       "      <td>Missing</td>\n",
       "      <td>894</td>\n",
       "      <td>...</td>\n",
       "      <td>894</td>\n",
       "      <td>63</td>\n",
       "      <td>63</td>\n",
       "      <td>63.0</td>\n",
       "      <td>1788.0</td>\n",
       "      <td>894.0</td>\n",
       "      <td>0</td>\n",
       "      <td>0</td>\n",
       "      <td>0</td>\n",
       "      <td>0</td>\n",
       "    </tr>\n",
       "    <tr>\n",
       "      <th>2</th>\n",
       "      <td>964</td>\n",
       "      <td>0.0</td>\n",
       "      <td>2.0</td>\n",
       "      <td>No</td>\n",
       "      <td>713</td>\n",
       "      <td>ALQ</td>\n",
       "      <td>163</td>\n",
       "      <td>432</td>\n",
       "      <td>Unf</td>\n",
       "      <td>964</td>\n",
       "      <td>...</td>\n",
       "      <td>876</td>\n",
       "      <td>104</td>\n",
       "      <td>19</td>\n",
       "      <td>104.0</td>\n",
       "      <td>1840.0</td>\n",
       "      <td>964.0</td>\n",
       "      <td>1</td>\n",
       "      <td>0</td>\n",
       "      <td>0</td>\n",
       "      <td>0</td>\n",
       "    </tr>\n",
       "  </tbody>\n",
       "</table>\n",
       "<p>3 rows × 27 columns</p>\n",
       "</div>"
      ],
      "text/plain": [
       "   1stFlrSF  2ndFlrSF  BedroomAbvGr BsmtExposure  BsmtFinSF1 BsmtFinType1  \\\n",
       "0      1828       0.0           3.0           Av          48      Missing   \n",
       "1       894       0.0           2.0           No           0          Unf   \n",
       "2       964       0.0           2.0           No         713          ALQ   \n",
       "\n",
       "   BsmtUnfSF  GarageArea GarageFinish  GrLivArea  ... TotalBsmtSF  HouseAge  \\\n",
       "0       1774         774          Unf       1828  ...        1822        18   \n",
       "1        894         308      Missing        894  ...         894        63   \n",
       "2        163         432          Unf        964  ...         876       104   \n",
       "\n",
       "   RemodAge  GarageAge  TotalSF  AboveGradeSF  IsRemodeled  Has2ndFlr  \\\n",
       "0        18       18.0   3650.0        1828.0            0          0   \n",
       "1        63       63.0   1788.0         894.0            0          0   \n",
       "2        19      104.0   1840.0         964.0            1          0   \n",
       "\n",
       "   HasPorch  HasDeck  \n",
       "0         0        0  \n",
       "1         0        0  \n",
       "2         0        0  \n",
       "\n",
       "[3 rows x 27 columns]"
      ]
     },
     "execution_count": 5,
     "metadata": {},
     "output_type": "execute_result"
    }
   ],
   "source": [
    "import pandas as pd\n",
    "train_set_path = \"outputs/datasets/cleaned/TrainSetCleaned.csv\"\n",
    "TrainSet = pd.read_csv(train_set_path)\n",
    "TrainSet.head(3)"
   ]
  },
  {
   "cell_type": "code",
   "execution_count": 6,
   "id": "1f3ddbac",
   "metadata": {},
   "outputs": [
    {
     "data": {
      "text/html": [
       "<div>\n",
       "<style scoped>\n",
       "    .dataframe tbody tr th:only-of-type {\n",
       "        vertical-align: middle;\n",
       "    }\n",
       "\n",
       "    .dataframe tbody tr th {\n",
       "        vertical-align: top;\n",
       "    }\n",
       "\n",
       "    .dataframe thead th {\n",
       "        text-align: right;\n",
       "    }\n",
       "</style>\n",
       "<table border=\"1\" class=\"dataframe\">\n",
       "  <thead>\n",
       "    <tr style=\"text-align: right;\">\n",
       "      <th></th>\n",
       "      <th>1stFlrSF</th>\n",
       "      <th>2ndFlrSF</th>\n",
       "      <th>BedroomAbvGr</th>\n",
       "      <th>BsmtExposure</th>\n",
       "      <th>BsmtFinSF1</th>\n",
       "      <th>BsmtFinType1</th>\n",
       "      <th>BsmtUnfSF</th>\n",
       "      <th>GarageArea</th>\n",
       "      <th>GarageFinish</th>\n",
       "      <th>GrLivArea</th>\n",
       "      <th>...</th>\n",
       "      <th>TotalBsmtSF</th>\n",
       "      <th>HouseAge</th>\n",
       "      <th>RemodAge</th>\n",
       "      <th>GarageAge</th>\n",
       "      <th>TotalSF</th>\n",
       "      <th>AboveGradeSF</th>\n",
       "      <th>IsRemodeled</th>\n",
       "      <th>Has2ndFlr</th>\n",
       "      <th>HasPorch</th>\n",
       "      <th>HasDeck</th>\n",
       "    </tr>\n",
       "  </thead>\n",
       "  <tbody>\n",
       "    <tr>\n",
       "      <th>0</th>\n",
       "      <td>2515</td>\n",
       "      <td>0.0</td>\n",
       "      <td>4.0</td>\n",
       "      <td>No</td>\n",
       "      <td>1219</td>\n",
       "      <td>Rec</td>\n",
       "      <td>816</td>\n",
       "      <td>484</td>\n",
       "      <td>Missing</td>\n",
       "      <td>2515</td>\n",
       "      <td>...</td>\n",
       "      <td>2035</td>\n",
       "      <td>68</td>\n",
       "      <td>50</td>\n",
       "      <td>50.0</td>\n",
       "      <td>4550.0</td>\n",
       "      <td>2515.0</td>\n",
       "      <td>1</td>\n",
       "      <td>0</td>\n",
       "      <td>0</td>\n",
       "      <td>0</td>\n",
       "    </tr>\n",
       "    <tr>\n",
       "      <th>1</th>\n",
       "      <td>958</td>\n",
       "      <td>620.0</td>\n",
       "      <td>3.0</td>\n",
       "      <td>No</td>\n",
       "      <td>403</td>\n",
       "      <td>BLQ</td>\n",
       "      <td>238</td>\n",
       "      <td>240</td>\n",
       "      <td>Unf</td>\n",
       "      <td>1578</td>\n",
       "      <td>...</td>\n",
       "      <td>806</td>\n",
       "      <td>84</td>\n",
       "      <td>75</td>\n",
       "      <td>84.0</td>\n",
       "      <td>2384.0</td>\n",
       "      <td>1578.0</td>\n",
       "      <td>1</td>\n",
       "      <td>1</td>\n",
       "      <td>0</td>\n",
       "      <td>0</td>\n",
       "    </tr>\n",
       "    <tr>\n",
       "      <th>2</th>\n",
       "      <td>979</td>\n",
       "      <td>224.0</td>\n",
       "      <td>3.0</td>\n",
       "      <td>No</td>\n",
       "      <td>185</td>\n",
       "      <td>LwQ</td>\n",
       "      <td>524</td>\n",
       "      <td>352</td>\n",
       "      <td>Unf</td>\n",
       "      <td>1203</td>\n",
       "      <td>...</td>\n",
       "      <td>709</td>\n",
       "      <td>75</td>\n",
       "      <td>75</td>\n",
       "      <td>75.0</td>\n",
       "      <td>1912.0</td>\n",
       "      <td>1203.0</td>\n",
       "      <td>0</td>\n",
       "      <td>1</td>\n",
       "      <td>0</td>\n",
       "      <td>0</td>\n",
       "    </tr>\n",
       "  </tbody>\n",
       "</table>\n",
       "<p>3 rows × 27 columns</p>\n",
       "</div>"
      ],
      "text/plain": [
       "   1stFlrSF  2ndFlrSF  BedroomAbvGr BsmtExposure  BsmtFinSF1 BsmtFinType1  \\\n",
       "0      2515       0.0           4.0           No        1219          Rec   \n",
       "1       958     620.0           3.0           No         403          BLQ   \n",
       "2       979     224.0           3.0           No         185          LwQ   \n",
       "\n",
       "   BsmtUnfSF  GarageArea GarageFinish  GrLivArea  ... TotalBsmtSF  HouseAge  \\\n",
       "0        816         484      Missing       2515  ...        2035        68   \n",
       "1        238         240          Unf       1578  ...         806        84   \n",
       "2        524         352          Unf       1203  ...         709        75   \n",
       "\n",
       "   RemodAge  GarageAge  TotalSF  AboveGradeSF  IsRemodeled  Has2ndFlr  \\\n",
       "0        50       50.0   4550.0        2515.0            1          0   \n",
       "1        75       84.0   2384.0        1578.0            1          1   \n",
       "2        75       75.0   1912.0        1203.0            0          1   \n",
       "\n",
       "   HasPorch  HasDeck  \n",
       "0         0        0  \n",
       "1         0        0  \n",
       "2         0        0  \n",
       "\n",
       "[3 rows x 27 columns]"
      ]
     },
     "execution_count": 6,
     "metadata": {},
     "output_type": "execute_result"
    }
   ],
   "source": [
    "test_set_path = \"outputs/datasets/cleaned/TestSetCleaned.csv\"\n",
    "TestSet = pd.read_csv(test_set_path)\n",
    "TestSet.head(3)"
   ]
  },
  {
   "cell_type": "code",
   "execution_count": null,
   "id": "10461892",
   "metadata": {},
   "outputs": [],
   "source": []
  }
 ],
 "metadata": {
  "kernelspec": {
   "display_name": "Python 3",
   "language": "python",
   "name": "python3"
  },
  "language_info": {
   "codemirror_mode": {
    "name": "ipython",
    "version": 3
   },
   "file_extension": ".py",
   "mimetype": "text/x-python",
   "name": "python",
   "nbconvert_exporter": "python",
   "pygments_lexer": "ipython3",
   "version": "3.12.1"
  }
 },
 "nbformat": 4,
 "nbformat_minor": 5
}
